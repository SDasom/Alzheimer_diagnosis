{
 "cells": [
  {
   "cell_type": "code",
   "execution_count": 2,
   "id": "f78a9339",
   "metadata": {},
   "outputs": [],
   "source": [
    "import pandas as pd\n",
    "\n",
    "data = pd.read_csv('../알츠하이머/data/FS_raw.csv')"
   ]
  },
  {
   "cell_type": "code",
   "execution_count": 3,
   "id": "0daf65d9",
   "metadata": {},
   "outputs": [],
   "source": [
    "# 필요없는 컬럼 제거\n",
    "df = data.copy()\n",
    "df = df.drop(['ID','PET ligand type', 'Onset age'], axis=1)"
   ]
  },
  {
   "cell_type": "code",
   "execution_count": 4,
   "id": "3448911c",
   "metadata": {},
   "outputs": [
    {
     "data": {
      "text/plain": [
       "array([0, 4, 3, 5, 2, 1], dtype=int64)"
      ]
     },
     "execution_count": 4,
     "metadata": {},
     "output_type": "execute_result"
    }
   ],
   "source": [
    "df[df.positivity=='BAPL1']['Diagnosis code'].unique()"
   ]
  },
  {
   "cell_type": "code",
   "execution_count": 5,
   "id": "583774a8",
   "metadata": {},
   "outputs": [],
   "source": [
    "# object형 데이터 인코딩\n",
    "df['positivity'] = df['positivity'].astype('category').cat.codes\n",
    "df.APOE = df.APOE.map(lambda x: 1 if x in ['E3/E4', 'E4/E4'] else 0)"
   ]
  },
  {
   "cell_type": "code",
   "execution_count": 6,
   "id": "93f55d5f",
   "metadata": {},
   "outputs": [],
   "source": [
    "def f(x):\n",
    "    if x==5:\n",
    "        return 2\n",
    "    elif x in [3,4]:\n",
    "        return 1\n",
    "    else:\n",
    "        return 0\n",
    "    \n",
    "ndf = df.copy()\n",
    "ndf['Diagnosis code'] = ndf['Diagnosis code'].map(f)\n",
    "ndf_corr = pd.DataFrame(ndf.corr().iloc[:,4].sort_values(ascending=False))\n",
    "ndf_corr = ndf_corr.rename(columns={'Diagnosis code':'corr'})\n",
    "\n",
    "strong_corr = ndf_corr[(ndf_corr['corr']>0.3)|(ndf_corr['corr']<=-0.3)]"
   ]
  },
  {
   "cell_type": "code",
   "execution_count": 7,
   "id": "f1aae2b5",
   "metadata": {},
   "outputs": [
    {
     "data": {
      "text/html": [
       "<div>\n",
       "<style scoped>\n",
       "    .dataframe tbody tr th:only-of-type {\n",
       "        vertical-align: middle;\n",
       "    }\n",
       "\n",
       "    .dataframe tbody tr th {\n",
       "        vertical-align: top;\n",
       "    }\n",
       "\n",
       "    .dataframe thead th {\n",
       "        text-align: right;\n",
       "    }\n",
       "</style>\n",
       "<table border=\"1\" class=\"dataframe\">\n",
       "  <thead>\n",
       "    <tr style=\"text-align: right;\">\n",
       "      <th></th>\n",
       "      <th>corr</th>\n",
       "    </tr>\n",
       "  </thead>\n",
       "  <tbody>\n",
       "    <tr>\n",
       "      <th>Diagnosis code</th>\n",
       "      <td>1.000000</td>\n",
       "    </tr>\n",
       "    <tr>\n",
       "      <th>GDS</th>\n",
       "      <td>0.810880</td>\n",
       "    </tr>\n",
       "    <tr>\n",
       "      <th>CDR-SOB</th>\n",
       "      <td>0.661618</td>\n",
       "    </tr>\n",
       "    <tr>\n",
       "      <th>positivity</th>\n",
       "      <td>0.493981</td>\n",
       "    </tr>\n",
       "    <tr>\n",
       "      <th>(SUV)PUT-l</th>\n",
       "      <td>0.483001</td>\n",
       "    </tr>\n",
       "    <tr>\n",
       "      <th>(SUV)PUT-r</th>\n",
       "      <td>0.472220</td>\n",
       "    </tr>\n",
       "    <tr>\n",
       "      <th>(SUV)GCA-l</th>\n",
       "      <td>0.471965</td>\n",
       "    </tr>\n",
       "    <tr>\n",
       "      <th>(SUV)GCA-r</th>\n",
       "      <td>0.471702</td>\n",
       "    </tr>\n",
       "    <tr>\n",
       "      <th>(SUV)GCP-l</th>\n",
       "      <td>0.467180</td>\n",
       "    </tr>\n",
       "    <tr>\n",
       "      <th>(SUV)GCP-r</th>\n",
       "      <td>0.459210</td>\n",
       "    </tr>\n",
       "    <tr>\n",
       "      <th>(SUV)PQ-r</th>\n",
       "      <td>0.456329</td>\n",
       "    </tr>\n",
       "    <tr>\n",
       "      <th>(SUV)FC-r</th>\n",
       "      <td>0.448145</td>\n",
       "    </tr>\n",
       "    <tr>\n",
       "      <th>(SUV)PQ-l</th>\n",
       "      <td>0.446460</td>\n",
       "    </tr>\n",
       "    <tr>\n",
       "      <th>(SUV)LTC-r</th>\n",
       "      <td>0.441675</td>\n",
       "    </tr>\n",
       "    <tr>\n",
       "      <th>(SUV)FC-l</th>\n",
       "      <td>0.437355</td>\n",
       "    </tr>\n",
       "    <tr>\n",
       "      <th>(SUV)PC-r</th>\n",
       "      <td>0.424659</td>\n",
       "    </tr>\n",
       "    <tr>\n",
       "      <th>(SUV)LTC-l</th>\n",
       "      <td>0.421836</td>\n",
       "    </tr>\n",
       "    <tr>\n",
       "      <th>(SUV)CN-r</th>\n",
       "      <td>0.418167</td>\n",
       "    </tr>\n",
       "    <tr>\n",
       "      <th>(SUV)CN-l</th>\n",
       "      <td>0.405417</td>\n",
       "    </tr>\n",
       "    <tr>\n",
       "      <th>(SUV)PC-l</th>\n",
       "      <td>0.404304</td>\n",
       "    </tr>\n",
       "    <tr>\n",
       "      <th>(SUV)OC-l</th>\n",
       "      <td>0.402158</td>\n",
       "    </tr>\n",
       "    <tr>\n",
       "      <th>(SUV)OC-r</th>\n",
       "      <td>0.402158</td>\n",
       "    </tr>\n",
       "    <tr>\n",
       "      <th>CDR</th>\n",
       "      <td>0.390217</td>\n",
       "    </tr>\n",
       "    <tr>\n",
       "      <th>APOE</th>\n",
       "      <td>0.336168</td>\n",
       "    </tr>\n",
       "    <tr>\n",
       "      <th>(Vol)MTC-l</th>\n",
       "      <td>-0.391382</td>\n",
       "    </tr>\n",
       "    <tr>\n",
       "      <th>(Vol)MTC-r</th>\n",
       "      <td>-0.419415</td>\n",
       "    </tr>\n",
       "    <tr>\n",
       "      <th>MMSE</th>\n",
       "      <td>-0.656325</td>\n",
       "    </tr>\n",
       "  </tbody>\n",
       "</table>\n",
       "</div>"
      ],
      "text/plain": [
       "                    corr\n",
       "Diagnosis code  1.000000\n",
       "GDS             0.810880\n",
       "CDR-SOB         0.661618\n",
       "positivity      0.493981\n",
       "(SUV)PUT-l      0.483001\n",
       "(SUV)PUT-r      0.472220\n",
       "(SUV)GCA-l      0.471965\n",
       "(SUV)GCA-r      0.471702\n",
       "(SUV)GCP-l      0.467180\n",
       "(SUV)GCP-r      0.459210\n",
       "(SUV)PQ-r       0.456329\n",
       "(SUV)FC-r       0.448145\n",
       "(SUV)PQ-l       0.446460\n",
       "(SUV)LTC-r      0.441675\n",
       "(SUV)FC-l       0.437355\n",
       "(SUV)PC-r       0.424659\n",
       "(SUV)LTC-l      0.421836\n",
       "(SUV)CN-r       0.418167\n",
       "(SUV)CN-l       0.405417\n",
       "(SUV)PC-l       0.404304\n",
       "(SUV)OC-l       0.402158\n",
       "(SUV)OC-r       0.402158\n",
       "CDR             0.390217\n",
       "APOE            0.336168\n",
       "(Vol)MTC-l     -0.391382\n",
       "(Vol)MTC-r     -0.419415\n",
       "MMSE           -0.656325"
      ]
     },
     "execution_count": 7,
     "metadata": {},
     "output_type": "execute_result"
    }
   ],
   "source": [
    "strong_corr"
   ]
  },
  {
   "cell_type": "code",
   "execution_count": 8,
   "id": "a61fa372",
   "metadata": {},
   "outputs": [],
   "source": [
    "lt = strong_corr.index\n",
    "nndf = ndf[lt]\n",
    "\n",
    "X = nndf.drop('Diagnosis code', axis=1)\n",
    "y = nndf['Diagnosis code']\n",
    "\n",
    "from sklearn.model_selection import train_test_split\n",
    "train_x, test_x, train_y, test_y = train_test_split(X, y, test_size=0.2, shuffle=True, stratify=y)"
   ]
  },
  {
   "cell_type": "code",
   "execution_count": 9,
   "id": "62f35f92",
   "metadata": {},
   "outputs": [
    {
     "data": {
      "text/plain": [
       "RandomForestClassifier(random_state=42)"
      ]
     },
     "execution_count": 9,
     "metadata": {},
     "output_type": "execute_result"
    }
   ],
   "source": [
    "from sklearn.ensemble import RandomForestClassifier\n",
    "\n",
    "rfc = RandomForestClassifier(random_state=42)\n",
    "rfc.fit(train_x, train_y)"
   ]
  },
  {
   "cell_type": "code",
   "execution_count": 10,
   "id": "d2f01a1d",
   "metadata": {},
   "outputs": [],
   "source": [
    "rfc_pred= rfc.predict(test_x)\n",
    "rfc_pred_proba = rfc.predict_proba(test_x)"
   ]
  },
  {
   "cell_type": "code",
   "execution_count": 11,
   "id": "0335d766",
   "metadata": {},
   "outputs": [
    {
     "name": "stdout",
     "output_type": "stream",
     "text": [
      "0.9411764705882353\n",
      "0.9411764705882353\n"
     ]
    }
   ],
   "source": [
    "from sklearn.metrics import accuracy_score, roc_auc_score, f1_score\n",
    "print(accuracy_score(test_y, rfc_pred))\n",
    "print(f1_score(test_y, rfc_pred, average='micro'))"
   ]
  },
  {
   "cell_type": "code",
   "execution_count": 12,
   "id": "198091f3",
   "metadata": {},
   "outputs": [
    {
     "data": {
      "text/plain": [
       "XGBClassifier(base_score=None, booster=None, callbacks=None,\n",
       "              colsample_bylevel=None, colsample_bynode=None,\n",
       "              colsample_bytree=None, early_stopping_rounds=None,\n",
       "              enable_categorical=False, eval_metric=None, feature_types=None,\n",
       "              gamma=None, gpu_id=None, grow_policy=None, importance_type=None,\n",
       "              interaction_constraints=None, learning_rate=None, max_bin=None,\n",
       "              max_cat_threshold=None, max_cat_to_onehot=None,\n",
       "              max_delta_step=None, max_depth=None, max_leaves=None,\n",
       "              min_child_weight=None, missing=nan, monotone_constraints=None,\n",
       "              n_estimators=100, n_jobs=None, num_parallel_tree=None,\n",
       "              objective='multi:softprob', predictor=None, ...)"
      ]
     },
     "execution_count": 12,
     "metadata": {},
     "output_type": "execute_result"
    }
   ],
   "source": [
    "from xgboost.sklearn import XGBClassifier\n",
    "xgbc = XGBClassifier(random_state=42)\n",
    "xgbc.fit(train_x, train_y)"
   ]
  },
  {
   "cell_type": "code",
   "execution_count": 13,
   "id": "9fb1a01f",
   "metadata": {},
   "outputs": [],
   "source": [
    "xgbc_pred= xgbc.predict(test_x)\n",
    "xgbc_pred_proba = xgbc.predict_proba(test_x)"
   ]
  },
  {
   "cell_type": "code",
   "execution_count": 14,
   "id": "efb5e515",
   "metadata": {},
   "outputs": [
    {
     "name": "stdout",
     "output_type": "stream",
     "text": [
      "0.8823529411764706\n",
      "0.8823529411764706\n"
     ]
    }
   ],
   "source": [
    "from sklearn.metrics import accuracy_score, roc_auc_score, f1_score\n",
    "print(accuracy_score(test_y, xgbc_pred))\n",
    "print(f1_score(test_y, xgbc_pred, average='micro'))"
   ]
  }
 ],
 "metadata": {
  "kernelspec": {
   "display_name": "Python 3 (ipykernel)",
   "language": "python",
   "name": "python3"
  },
  "language_info": {
   "codemirror_mode": {
    "name": "ipython",
    "version": 3
   },
   "file_extension": ".py",
   "mimetype": "text/x-python",
   "name": "python",
   "nbconvert_exporter": "python",
   "pygments_lexer": "ipython3",
   "version": "3.9.13"
  }
 },
 "nbformat": 4,
 "nbformat_minor": 5
}
