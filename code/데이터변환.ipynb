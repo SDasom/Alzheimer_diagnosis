{
 "cells": [
  {
   "cell_type": "markdown",
   "id": "f6c50f17",
   "metadata": {},
   "source": [
    "# 알츠하이머 엑셀파일 변환"
   ]
  },
  {
   "cell_type": "code",
   "execution_count": 1,
   "id": "b36e4a25",
   "metadata": {},
   "outputs": [],
   "source": [
    "import pandas as pd"
   ]
  },
  {
   "cell_type": "code",
   "execution_count": 2,
   "id": "f1b1d35b",
   "metadata": {},
   "outputs": [],
   "source": [
    "raw = pd.read_excel('../알츠하이머/data/FS_short.xlsx', sheet_name='raw', index_col=0)\n",
    "clean = pd.read_excel('../알츠하이머/data/FS_short.xlsx', sheet_name='clean', index_col=0)"
   ]
  },
  {
   "cell_type": "code",
   "execution_count": 3,
   "id": "d717ed7d",
   "metadata": {},
   "outputs": [],
   "source": [
    "raw.to_csv('../알츠하이머/data/FS_raw.csv', index=False)\n",
    "clean.to_csv('../알츠하이머/data/FS_clean.csv', index=False)"
   ]
  },
  {
   "cell_type": "code",
   "execution_count": 4,
   "id": "6fc6f74f",
   "metadata": {},
   "outputs": [],
   "source": [
    "raw = pd.read_excel('../알츠하이머/data/PMOD_short.xlsx', sheet_name='raw', index_col=0)\n",
    "clean = pd.read_excel('../알츠하이머/data/PMOD_short.xlsx', sheet_name='clean', index_col=0)"
   ]
  },
  {
   "cell_type": "code",
   "execution_count": 5,
   "id": "f597c561",
   "metadata": {},
   "outputs": [],
   "source": [
    "raw.to_csv('../알츠하이머/data/PMOD_raw.csv', index=False)\n",
    "clean.to_csv('../알츠하이머/data/PMOD_clean.csv', index=False)"
   ]
  }
 ],
 "metadata": {
  "kernelspec": {
   "display_name": "Python 3 (ipykernel)",
   "language": "python",
   "name": "python3"
  },
  "language_info": {
   "codemirror_mode": {
    "name": "ipython",
    "version": 3
   },
   "file_extension": ".py",
   "mimetype": "text/x-python",
   "name": "python",
   "nbconvert_exporter": "python",
   "pygments_lexer": "ipython3",
   "version": "3.9.13"
  }
 },
 "nbformat": 4,
 "nbformat_minor": 5
}
