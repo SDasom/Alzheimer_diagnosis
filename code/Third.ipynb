{
 "cells": [
  {
   "cell_type": "markdown",
   "id": "f8094c1f",
   "metadata": {},
   "source": [
    "# positivity와 Diagnosis code를 모두 고려\n",
    "\n",
    "**Diagnosis code** \n",
    "+ 0~4 -> 0     \n",
    "+ 5 -> 1\n",
    "\n",
    "||positvity==1| positivity==0|\n",
    "|---|---|---|\n",
    "|Dignosis code == 1|63|14|\n",
    "|Dignosis code == 0|37|54|\n"
   ]
  },
  {
   "cell_type": "markdown",
   "id": "0408b550",
   "metadata": {},
   "source": [
    "## Case 1\n",
    "#### 신경심리검사 결과와 의사 진단 모두 알츠하이머인 경우 -> 2\n",
    "#### 신경심리검사 결과와 의사 진단 둘 중 하나만 알츠하이머인 경우 -> 1  \n",
    "#### 신경심리검사 결과와 의사 진단 모두 정상인 경우로 분류   -> 0"
   ]
  },
  {
   "cell_type": "code",
   "execution_count": 1,
   "id": "ec2496ab",
   "metadata": {},
   "outputs": [],
   "source": [
    "import pandas as pd\n",
    "\n",
    "data = pd.read_csv('../알츠하이머/data/modeling.csv').iloc[:,1:]"
   ]
  },
  {
   "cell_type": "code",
   "execution_count": 2,
   "id": "a55a31a2",
   "metadata": {},
   "outputs": [],
   "source": [
    "for i in range(168):\n",
    "    pos = data.iloc[i,0]\n",
    "    code = data.iloc[i,5]\n",
    "    if code==5 and pos==1:\n",
    "        data.loc[i, 'answer'] = 2\n",
    "    elif code in [0,1,2,3,4] and pos==0:\n",
    "        data.loc[i,'answer'] = 0\n",
    "    else:\n",
    "        data.loc[i,'answer'] = 1\n",
    "        \n",
    "data['answer'] = data['answer'].astype('int')"
   ]
  },
  {
   "cell_type": "code",
   "execution_count": 3,
   "id": "e8d9da43",
   "metadata": {},
   "outputs": [],
   "source": [
    "data = data.drop(['positivity','Diagnosis code'], axis=1)"
   ]
  },
  {
   "cell_type": "code",
   "execution_count": 4,
   "id": "12514bfd",
   "metadata": {},
   "outputs": [],
   "source": [
    "put = data.drop(['answer'], axis=1)\n",
    "target = data['answer']"
   ]
  },
  {
   "cell_type": "code",
   "execution_count": 5,
   "id": "ac5921c2",
   "metadata": {},
   "outputs": [],
   "source": [
    "from sklearn.model_selection import train_test_split\n",
    "\n",
    "train_x, test_x, train_y, test_y = train_test_split(put, target, test_size=0.2, stratify= target, random_state=42)"
   ]
  },
  {
   "cell_type": "code",
   "execution_count": 6,
   "id": "4468eb29",
   "metadata": {},
   "outputs": [
    {
     "data": {
      "text/plain": [
       "RandomForestClassifier(n_estimators=200)"
      ]
     },
     "execution_count": 6,
     "metadata": {},
     "output_type": "execute_result"
    }
   ],
   "source": [
    "from sklearn.ensemble import RandomForestClassifier\n",
    "rfc = RandomForestClassifier(n_estimators=200)\n",
    "rfc.fit(train_x, train_y)"
   ]
  },
  {
   "cell_type": "code",
   "execution_count": 7,
   "id": "5babcd61",
   "metadata": {},
   "outputs": [
    {
     "name": "stdout",
     "output_type": "stream",
     "text": [
      "0.9117647058823529\n",
      "0.9123809523809524\n",
      "0.9153846153846154\n",
      "0.9116161616161617\n",
      "[[11  0  0]\n",
      " [ 0  9  1]\n",
      " [ 0  2 11]]\n"
     ]
    }
   ],
   "source": [
    "pred_rfc = rfc.predict(test_x)\n",
    "\n",
    "from sklearn.metrics import accuracy_score, f1_score, recall_score, precision_score, confusion_matrix\n",
    "\n",
    "print(accuracy_score(test_y,pred_rfc))\n",
    "print(f1_score(test_y,pred_rfc,average='macro'))\n",
    "print(recall_score(test_y,pred_rfc,average='macro'))\n",
    "print(precision_score(test_y,pred_rfc,average='macro'))\n",
    "print(confusion_matrix(test_y,pred_rfc))"
   ]
  },
  {
   "cell_type": "code",
   "execution_count": 8,
   "id": "0e83feae",
   "metadata": {},
   "outputs": [
    {
     "data": {
      "text/plain": [
       "XGBClassifier(base_score=None, booster=None, callbacks=None,\n",
       "              colsample_bylevel=None, colsample_bynode=None,\n",
       "              colsample_bytree=None, early_stopping_rounds=None,\n",
       "              enable_categorical=False, eval_metric=None, feature_types=None,\n",
       "              gamma=None, gpu_id=None, grow_policy=None, importance_type=None,\n",
       "              interaction_constraints=None, learning_rate=None, max_bin=None,\n",
       "              max_cat_threshold=None, max_cat_to_onehot=None,\n",
       "              max_delta_step=None, max_depth=None, max_leaves=None,\n",
       "              min_child_weight=None, missing=nan, monotone_constraints=None,\n",
       "              n_estimators=150, n_jobs=None, num_parallel_tree=None,\n",
       "              objective='multi:softprob', predictor=None, ...)"
      ]
     },
     "execution_count": 8,
     "metadata": {},
     "output_type": "execute_result"
    }
   ],
   "source": [
    "from xgboost.sklearn import XGBClassifier\n",
    "\n",
    "xgbc = XGBClassifier(n_estimators=150)\n",
    "xgbc.fit(train_x, train_y)"
   ]
  },
  {
   "cell_type": "code",
   "execution_count": 9,
   "id": "49a9efbb",
   "metadata": {},
   "outputs": [
    {
     "name": "stdout",
     "output_type": "stream",
     "text": [
      "0.8235294117647058\n",
      "0.8188405797101449\n",
      "0.8230769230769232\n",
      "0.8166666666666668\n",
      "[[11  0  0]\n",
      " [ 1  7  2]\n",
      " [ 0  3 10]]\n"
     ]
    }
   ],
   "source": [
    "pred_xgbc = xgbc.predict(test_x)\n",
    "\n",
    "print(accuracy_score(test_y,pred_xgbc))\n",
    "print(f1_score(test_y,pred_xgbc,average='macro'))\n",
    "print(recall_score(test_y,pred_xgbc,average='macro'))\n",
    "print(precision_score(test_y,pred_xgbc,average='macro'))\n",
    "print(confusion_matrix(test_y,pred_xgbc))"
   ]
  },
  {
   "cell_type": "code",
   "execution_count": 10,
   "id": "0f1d6df3",
   "metadata": {},
   "outputs": [],
   "source": [
    "corr = data.corr()"
   ]
  },
  {
   "cell_type": "markdown",
   "id": "9245a6d7",
   "metadata": {},
   "source": [
    "## 다소 강한 상관관계 "
   ]
  },
  {
   "cell_type": "code",
   "execution_count": 11,
   "id": "0aac605d",
   "metadata": {},
   "outputs": [
    {
     "data": {
      "text/plain": [
       "answer        1.000000\n",
       "PQ            0.768317\n",
       "GCP           0.767792\n",
       "GCA           0.765438\n",
       "PC            0.748501\n",
       "Composite*    0.746448\n",
       "LTC           0.740053\n",
       "FC            0.739949\n",
       "PUT           0.720270\n",
       "CN            0.705349\n",
       "THA           0.689530\n",
       "OC            0.664857\n",
       "GDS           0.650959\n",
       "CDR-SOB       0.596691\n",
       "APOE          0.411204\n",
       "CDR           0.367450\n",
       "MTC           0.199919\n",
       "Age           0.186690\n",
       "Eduction      0.147539\n",
       "Onset age     0.146781\n",
       "SGDepS       -0.015219\n",
       "SNSB         -0.087940\n",
       "Sex          -0.136458\n",
       "BS           -0.198852\n",
       "Mid          -0.295166\n",
       "Pons         -0.316207\n",
       "MMSE         -0.582262\n",
       "Name: answer, dtype: float64"
      ]
     },
     "execution_count": 11,
     "metadata": {},
     "output_type": "execute_result"
    }
   ],
   "source": [
    "lt = corr[(corr.answer>=0.4)|(corr.answer<=-0.4)].index\n",
    "corr.iloc[-1].sort_values(ascending=False)"
   ]
  },
  {
   "cell_type": "code",
   "execution_count": 12,
   "id": "1613d8fe",
   "metadata": {},
   "outputs": [
    {
     "data": {
      "text/plain": [
       "Index(['APOE', 'MMSE', 'CDR-SOB', 'GDS', 'FC', 'LTC', 'PC', 'OC', 'GCA', 'GCP',\n",
       "       'PQ', 'CN', 'PUT', 'THA', 'Composite*', 'answer'],\n",
       "      dtype='object')"
      ]
     },
     "execution_count": 12,
     "metadata": {},
     "output_type": "execute_result"
    }
   ],
   "source": [
    "lt"
   ]
  },
  {
   "cell_type": "code",
   "execution_count": 13,
   "id": "bdfe6270",
   "metadata": {},
   "outputs": [],
   "source": [
    "df = data[lt]\n",
    "put = df.drop(['answer'], axis=1)\n",
    "target = df['answer']"
   ]
  },
  {
   "cell_type": "code",
   "execution_count": 14,
   "id": "d3e45b07",
   "metadata": {},
   "outputs": [],
   "source": [
    "from sklearn.model_selection import train_test_split\n",
    "\n",
    "train_x, test_x, train_y, test_y = train_test_split(put, target, test_size=0.2, stratify= target, random_state=42)"
   ]
  },
  {
   "cell_type": "markdown",
   "id": "6baa37dc",
   "metadata": {},
   "source": [
    "## RF"
   ]
  },
  {
   "cell_type": "code",
   "execution_count": 15,
   "id": "53bb4f43",
   "metadata": {},
   "outputs": [
    {
     "data": {
      "text/plain": [
       "RandomForestClassifier(n_estimators=150)"
      ]
     },
     "execution_count": 15,
     "metadata": {},
     "output_type": "execute_result"
    }
   ],
   "source": [
    "from sklearn.ensemble import RandomForestClassifier\n",
    "rfc = RandomForestClassifier(n_estimators=150)\n",
    "rfc.fit(train_x, train_y)"
   ]
  },
  {
   "cell_type": "code",
   "execution_count": 16,
   "id": "b85f0ed8",
   "metadata": {},
   "outputs": [
    {
     "name": "stdout",
     "output_type": "stream",
     "text": [
      "0.9117647058823529\n",
      "0.9103313840155945\n",
      "0.9076923076923077\n",
      "0.9153439153439153\n",
      "[[11  0  0]\n",
      " [ 0  8  2]\n",
      " [ 0  1 12]]\n"
     ]
    }
   ],
   "source": [
    "pred_rfc = rfc.predict(test_x)\n",
    "\n",
    "from sklearn.metrics import accuracy_score, f1_score, recall_score, precision_score, confusion_matrix\n",
    "\n",
    "print(accuracy_score(test_y,pred_rfc))\n",
    "print(f1_score(test_y,pred_rfc,average='macro'))\n",
    "print(recall_score(test_y,pred_rfc,average='macro'))\n",
    "print(precision_score(test_y,pred_rfc,average='macro'))\n",
    "print(confusion_matrix(test_y,pred_rfc))"
   ]
  },
  {
   "cell_type": "markdown",
   "id": "56c177ee",
   "metadata": {},
   "source": [
    "## XGB"
   ]
  },
  {
   "cell_type": "code",
   "execution_count": 17,
   "id": "be2ed3fb",
   "metadata": {},
   "outputs": [
    {
     "data": {
      "text/plain": [
       "XGBClassifier(base_score=None, booster=None, callbacks=None,\n",
       "              colsample_bylevel=None, colsample_bynode=None,\n",
       "              colsample_bytree=None, early_stopping_rounds=None,\n",
       "              enable_categorical=False, eval_metric=None, feature_types=None,\n",
       "              gamma=None, gpu_id=None, grow_policy=None, importance_type=None,\n",
       "              interaction_constraints=None, learning_rate=None, max_bin=None,\n",
       "              max_cat_threshold=None, max_cat_to_onehot=None,\n",
       "              max_delta_step=None, max_depth=None, max_leaves=None,\n",
       "              min_child_weight=None, missing=nan, monotone_constraints=None,\n",
       "              n_estimators=100, n_jobs=None, num_parallel_tree=None,\n",
       "              objective='multi:softprob', predictor=None, ...)"
      ]
     },
     "execution_count": 17,
     "metadata": {},
     "output_type": "execute_result"
    }
   ],
   "source": [
    "from xgboost.sklearn import XGBClassifier\n",
    "\n",
    "xgbc = XGBClassifier(n_estimators=100)\n",
    "xgbc.fit(train_x, train_y)"
   ]
  },
  {
   "cell_type": "code",
   "execution_count": 18,
   "id": "a4e9f64f",
   "metadata": {},
   "outputs": [
    {
     "name": "stdout",
     "output_type": "stream",
     "text": [
      "0.8235294117647058\n",
      "0.8188405797101449\n",
      "0.8230769230769232\n",
      "0.8166666666666668\n",
      "[[11  0  0]\n",
      " [ 1  7  2]\n",
      " [ 0  3 10]]\n"
     ]
    }
   ],
   "source": [
    "pred_xgbc = xgbc.predict(test_x)\n",
    "\n",
    "print(accuracy_score(test_y,pred_xgbc))\n",
    "print(f1_score(test_y,pred_xgbc,average='macro'))\n",
    "print(recall_score(test_y,pred_xgbc,average='macro'))\n",
    "print(precision_score(test_y,pred_xgbc,average='macro'))\n",
    "print(confusion_matrix(test_y,pred_xgbc))"
   ]
  },
  {
   "cell_type": "markdown",
   "id": "8744e1d6",
   "metadata": {},
   "source": [
    "## 강한 상관관계"
   ]
  },
  {
   "cell_type": "code",
   "execution_count": 19,
   "id": "be89678c",
   "metadata": {},
   "outputs": [
    {
     "data": {
      "text/plain": [
       "answer        1.000000\n",
       "PQ            0.768317\n",
       "GCP           0.767792\n",
       "GCA           0.765438\n",
       "PC            0.748501\n",
       "Composite*    0.746448\n",
       "LTC           0.740053\n",
       "FC            0.739949\n",
       "PUT           0.720270\n",
       "CN            0.705349\n",
       "THA           0.689530\n",
       "OC            0.664857\n",
       "GDS           0.650959\n",
       "CDR-SOB       0.596691\n",
       "APOE          0.411204\n",
       "CDR           0.367450\n",
       "MTC           0.199919\n",
       "Age           0.186690\n",
       "Eduction      0.147539\n",
       "Onset age     0.146781\n",
       "SGDepS       -0.015219\n",
       "SNSB         -0.087940\n",
       "Sex          -0.136458\n",
       "BS           -0.198852\n",
       "Mid          -0.295166\n",
       "Pons         -0.316207\n",
       "MMSE         -0.582262\n",
       "Name: answer, dtype: float64"
      ]
     },
     "execution_count": 19,
     "metadata": {},
     "output_type": "execute_result"
    }
   ],
   "source": [
    "lt = corr[(corr.answer>=0.7)|(corr.answer<=-0.7)].index\n",
    "corr.iloc[-1].sort_values(ascending=False)"
   ]
  },
  {
   "cell_type": "code",
   "execution_count": 20,
   "id": "91d43ecb",
   "metadata": {},
   "outputs": [],
   "source": [
    "df = data[lt]\n",
    "put = df.drop(['answer'], axis=1)\n",
    "target = df['answer']"
   ]
  },
  {
   "cell_type": "code",
   "execution_count": 21,
   "id": "6e631ae2",
   "metadata": {},
   "outputs": [],
   "source": [
    "from sklearn.model_selection import train_test_split\n",
    "\n",
    "train_x, test_x, train_y, test_y = train_test_split(put, target, test_size=0.2, stratify= target, random_state=42)"
   ]
  },
  {
   "cell_type": "code",
   "execution_count": 22,
   "id": "c148b5b3",
   "metadata": {},
   "outputs": [
    {
     "data": {
      "text/plain": [
       "RandomForestClassifier(n_estimators=150)"
      ]
     },
     "execution_count": 22,
     "metadata": {},
     "output_type": "execute_result"
    }
   ],
   "source": [
    "from sklearn.ensemble import RandomForestClassifier\n",
    "rfc = RandomForestClassifier(n_estimators=150)\n",
    "rfc.fit(train_x, train_y)"
   ]
  },
  {
   "cell_type": "code",
   "execution_count": 23,
   "id": "40aa3d81",
   "metadata": {},
   "outputs": [
    {
     "name": "stdout",
     "output_type": "stream",
     "text": [
      "0.6470588235294118\n",
      "0.5970764617691154\n",
      "0.6214452214452214\n",
      "0.5902777777777778\n",
      "[[ 9  2  0]\n",
      " [ 3  2  5]\n",
      " [ 0  2 11]]\n"
     ]
    }
   ],
   "source": [
    "pred_rfc = rfc.predict(test_x)\n",
    "\n",
    "from sklearn.metrics import accuracy_score, f1_score, recall_score, precision_score, confusion_matrix\n",
    "\n",
    "print(accuracy_score(test_y,pred_rfc))\n",
    "print(f1_score(test_y,pred_rfc,average='macro'))\n",
    "print(recall_score(test_y,pred_rfc,average='macro'))\n",
    "print(precision_score(test_y,pred_rfc,average='macro'))\n",
    "print(confusion_matrix(test_y,pred_rfc))"
   ]
  },
  {
   "cell_type": "code",
   "execution_count": 24,
   "id": "50f7e316",
   "metadata": {},
   "outputs": [
    {
     "data": {
      "text/plain": [
       "XGBClassifier(base_score=None, booster=None, callbacks=None,\n",
       "              colsample_bylevel=None, colsample_bynode=None,\n",
       "              colsample_bytree=None, early_stopping_rounds=None,\n",
       "              enable_categorical=False, eval_metric=None, feature_types=None,\n",
       "              gamma=None, gpu_id=None, grow_policy=None, importance_type=None,\n",
       "              interaction_constraints=None, learning_rate=None, max_bin=None,\n",
       "              max_cat_threshold=None, max_cat_to_onehot=None,\n",
       "              max_delta_step=None, max_depth=None, max_leaves=None,\n",
       "              min_child_weight=None, missing=nan, monotone_constraints=None,\n",
       "              n_estimators=150, n_jobs=None, num_parallel_tree=None,\n",
       "              objective='multi:softprob', predictor=None, ...)"
      ]
     },
     "execution_count": 24,
     "metadata": {},
     "output_type": "execute_result"
    }
   ],
   "source": [
    "from xgboost.sklearn import XGBClassifier\n",
    "\n",
    "xgbc = XGBClassifier(n_estimators=150)\n",
    "xgbc.fit(train_x, train_y)"
   ]
  },
  {
   "cell_type": "code",
   "execution_count": 25,
   "id": "a8656c1e",
   "metadata": {},
   "outputs": [
    {
     "name": "stdout",
     "output_type": "stream",
     "text": [
      "0.7352941176470589\n",
      "0.6898550724637681\n",
      "0.7107226107226108\n",
      "0.7130718954248366\n",
      "[[10  1  0]\n",
      " [ 2  3  5]\n",
      " [ 0  1 12]]\n"
     ]
    }
   ],
   "source": [
    "pred_xgbc = xgbc.predict(test_x)\n",
    "\n",
    "print(accuracy_score(test_y,pred_xgbc))\n",
    "print(f1_score(test_y,pred_xgbc,average='macro'))\n",
    "print(recall_score(test_y,pred_xgbc,average='macro'))\n",
    "print(precision_score(test_y,pred_xgbc,average='macro'))\n",
    "print(confusion_matrix(test_y,pred_xgbc))"
   ]
  },
  {
   "cell_type": "markdown",
   "id": "7e751172",
   "metadata": {},
   "source": [
    "## Case 2\n",
    "#### 신경심리검사 결과와 의사 진단 모두 알츠하이머인 경우 ->  1\n",
    "#### 신경심리검사 결과와 의사 진단 둘 중 하나라도 알츠하이머가 아닌 경우 ->  0  "
   ]
  },
  {
   "cell_type": "code",
   "execution_count": 26,
   "id": "46196a01",
   "metadata": {},
   "outputs": [],
   "source": [
    "import pandas as pd\n",
    "\n",
    "data = pd.read_csv('../알츠하이머/data/modeling.csv').iloc[:,1:]"
   ]
  },
  {
   "cell_type": "code",
   "execution_count": 27,
   "id": "8350e4cc",
   "metadata": {},
   "outputs": [],
   "source": [
    "for i in range(168):\n",
    "    pos = data.iloc[i,0]\n",
    "    code = data.iloc[i,5]\n",
    "    if code==5 and pos==1:\n",
    "        data.loc[i, 'answer'] = 1\n",
    "    else:\n",
    "        data.loc[i,'answer'] = 0\n",
    "        \n",
    "data['answer'] = data['answer'].astype('int')"
   ]
  },
  {
   "cell_type": "code",
   "execution_count": 28,
   "id": "fe1d2973",
   "metadata": {
    "scrolled": true
   },
   "outputs": [],
   "source": [
    "data = data.drop(['positivity','Diagnosis code'], axis=1)"
   ]
  },
  {
   "cell_type": "code",
   "execution_count": 29,
   "id": "128f23d9",
   "metadata": {},
   "outputs": [],
   "source": [
    "put = data.drop(['answer'], axis=1)\n",
    "target = data['answer']"
   ]
  },
  {
   "cell_type": "code",
   "execution_count": 30,
   "id": "7c9f12b1",
   "metadata": {},
   "outputs": [],
   "source": [
    "from sklearn.model_selection import train_test_split\n",
    "\n",
    "train_x, test_x, train_y, test_y = train_test_split(put, target, test_size=0.25, stratify= target, random_state=42)"
   ]
  },
  {
   "cell_type": "code",
   "execution_count": 31,
   "id": "64bff45a",
   "metadata": {},
   "outputs": [
    {
     "data": {
      "text/plain": [
       "RandomForestClassifier()"
      ]
     },
     "execution_count": 31,
     "metadata": {},
     "output_type": "execute_result"
    }
   ],
   "source": [
    "from sklearn.ensemble import RandomForestClassifier\n",
    "rfc = RandomForestClassifier()\n",
    "rfc.fit(train_x, train_y)"
   ]
  },
  {
   "cell_type": "code",
   "execution_count": 32,
   "id": "5a640cbd",
   "metadata": {},
   "outputs": [
    {
     "name": "stdout",
     "output_type": "stream",
     "text": [
      "0.9285714285714286\n",
      "0.926530612244898\n",
      "0.9423076923076923\n",
      "0.9210526315789473\n",
      "[[23  3]\n",
      " [ 0 16]]\n"
     ]
    }
   ],
   "source": [
    "pred_rfc = rfc.predict(test_x)\n",
    "proba_rfc = rfc.predict_proba(test_x)[:,1]\n",
    "\n",
    "from sklearn.metrics import accuracy_score, f1_score, recall_score, precision_score, confusion_matrix, roc_auc_score\n",
    "\n",
    "print(accuracy_score(test_y,pred_rfc))\n",
    "print(f1_score(test_y,pred_rfc,average='macro'))\n",
    "print(recall_score(test_y,pred_rfc,average='macro'))\n",
    "\n",
    "print(precision_score(test_y,pred_rfc,average='macro'))\n",
    "# print(roc_auc_score(test_y, proba_rfc))\n",
    "print(confusion_matrix(test_y,pred_rfc))"
   ]
  },
  {
   "cell_type": "code",
   "execution_count": 33,
   "id": "9c44cc85",
   "metadata": {},
   "outputs": [
    {
     "data": {
      "text/plain": [
       "XGBClassifier(base_score=None, booster=None, callbacks=None,\n",
       "              colsample_bylevel=None, colsample_bynode=None,\n",
       "              colsample_bytree=None, early_stopping_rounds=None,\n",
       "              enable_categorical=False, eval_metric=None, feature_types=None,\n",
       "              gamma=None, gpu_id=None, grow_policy=None, importance_type=None,\n",
       "              interaction_constraints=None, learning_rate=None, max_bin=None,\n",
       "              max_cat_threshold=None, max_cat_to_onehot=None,\n",
       "              max_delta_step=None, max_depth=None, max_leaves=None,\n",
       "              min_child_weight=None, missing=nan, monotone_constraints=None,\n",
       "              n_estimators=100, n_jobs=None, num_parallel_tree=None,\n",
       "              predictor=None, random_state=None, ...)"
      ]
     },
     "execution_count": 33,
     "metadata": {},
     "output_type": "execute_result"
    }
   ],
   "source": [
    "xgbc = XGBClassifier()\n",
    "xgbc.fit(train_x, train_y)"
   ]
  },
  {
   "cell_type": "code",
   "execution_count": 34,
   "id": "266e783b",
   "metadata": {},
   "outputs": [
    {
     "name": "stdout",
     "output_type": "stream",
     "text": [
      "0.9285714285714286\n",
      "0.926530612244898\n",
      "0.9423076923076923\n",
      "0.9210526315789473\n",
      "[[23  3]\n",
      " [ 0 16]]\n"
     ]
    }
   ],
   "source": [
    "pred_xgbc = xgbc.predict(test_x)\n",
    "\n",
    "print(accuracy_score(test_y,pred_xgbc))\n",
    "print(f1_score(test_y,pred_xgbc,average='macro'))\n",
    "print(recall_score(test_y,pred_xgbc,average='macro'))\n",
    "print(precision_score(test_y,pred_xgbc,average='macro'))\n",
    "print(confusion_matrix(test_y,pred_xgbc))"
   ]
  },
  {
   "cell_type": "code",
   "execution_count": 35,
   "id": "1d3be2f3",
   "metadata": {},
   "outputs": [
    {
     "data": {
      "text/plain": [
       "answer        1.000000\n",
       "PQ            0.642173\n",
       "GCA           0.636639\n",
       "GCP           0.636622\n",
       "PC            0.623585\n",
       "LTC           0.619473\n",
       "Composite*    0.617046\n",
       "PUT           0.607060\n",
       "FC            0.603318\n",
       "THA           0.588992\n",
       "CN            0.586593\n",
       "GDS           0.586094\n",
       "CDR-SOB       0.582376\n",
       "OC            0.550451\n",
       "APOE          0.402997\n",
       "CDR           0.357398\n",
       "MTC           0.221848\n",
       "Eduction      0.191153\n",
       "Age           0.089440\n",
       "Onset age     0.054597\n",
       "SGDepS       -0.070927\n",
       "SNSB         -0.099900\n",
       "Sex          -0.104328\n",
       "BS           -0.203144\n",
       "Mid          -0.244004\n",
       "Pons         -0.315194\n",
       "MMSE         -0.512052\n",
       "Name: answer, dtype: float64"
      ]
     },
     "execution_count": 35,
     "metadata": {},
     "output_type": "execute_result"
    }
   ],
   "source": [
    "corr = data.corr()\n",
    "lt = corr[(corr.answer>=0.4)|(corr.answer<=-0.4)].index\n",
    "corr.iloc[-1].sort_values(ascending=False)"
   ]
  },
  {
   "cell_type": "code",
   "execution_count": 36,
   "id": "2856aa2c",
   "metadata": {},
   "outputs": [],
   "source": [
    "df = data[lt]\n",
    "put = df.drop(['answer'], axis=1)\n",
    "target = df['answer']"
   ]
  },
  {
   "cell_type": "code",
   "execution_count": 37,
   "id": "01eef143",
   "metadata": {},
   "outputs": [],
   "source": [
    "from sklearn.model_selection import train_test_split\n",
    "\n",
    "train_x, test_x, train_y, test_y = train_test_split(put, target, test_size=0.25, stratify= target, random_state=0)"
   ]
  },
  {
   "cell_type": "markdown",
   "id": "50d77956",
   "metadata": {},
   "source": [
    "## RF"
   ]
  },
  {
   "cell_type": "code",
   "execution_count": 38,
   "id": "010f57b6",
   "metadata": {},
   "outputs": [
    {
     "data": {
      "text/plain": [
       "RandomForestClassifier()"
      ]
     },
     "execution_count": 38,
     "metadata": {},
     "output_type": "execute_result"
    }
   ],
   "source": [
    "from sklearn.ensemble import RandomForestClassifier\n",
    "rfc = RandomForestClassifier()\n",
    "rfc.fit(train_x, train_y)"
   ]
  },
  {
   "cell_type": "code",
   "execution_count": 39,
   "id": "e431215b",
   "metadata": {},
   "outputs": [
    {
     "name": "stdout",
     "output_type": "stream",
     "text": [
      "0.8809523809523809\n",
      "0.8721850273889227\n",
      "0.8677884615384616\n",
      "0.8777777777777778\n",
      "0.8777777777777778\n",
      "[[24  2]\n",
      " [ 3 13]]\n"
     ]
    }
   ],
   "source": [
    "pred_rfc = rfc.predict(test_x)\n",
    "proba_rfc = rfc.predict_proba(test_x)[:,1]\n",
    "\n",
    "from sklearn.metrics import accuracy_score, f1_score, recall_score, precision_score, confusion_matrix, roc_auc_score\n",
    "\n",
    "print(accuracy_score(test_y,pred_rfc))\n",
    "print(f1_score(test_y,pred_rfc,average='macro'))\n",
    "print(recall_score(test_y,pred_rfc,average='macro'))\n",
    "print(precision_score(test_y,pred_rfc,average='macro'))\n",
    "print(precision_score(test_y,pred_rfc,average='macro'))\n",
    "# print(roc_auc_score(test_y, proba_rfc))\n",
    "print(confusion_matrix(test_y,pred_rfc))"
   ]
  },
  {
   "cell_type": "markdown",
   "id": "776371e4",
   "metadata": {},
   "source": [
    "## XGB"
   ]
  },
  {
   "cell_type": "code",
   "execution_count": 40,
   "id": "af745db7",
   "metadata": {},
   "outputs": [
    {
     "data": {
      "text/plain": [
       "XGBClassifier(base_score=None, booster=None, callbacks=None,\n",
       "              colsample_bylevel=None, colsample_bynode=None,\n",
       "              colsample_bytree=None, early_stopping_rounds=None,\n",
       "              enable_categorical=False, eval_metric=None, feature_types=None,\n",
       "              gamma=None, gpu_id=None, grow_policy=None, importance_type=None,\n",
       "              interaction_constraints=None, learning_rate=None, max_bin=None,\n",
       "              max_cat_threshold=None, max_cat_to_onehot=None,\n",
       "              max_delta_step=None, max_depth=None, max_leaves=None,\n",
       "              min_child_weight=None, missing=nan, monotone_constraints=None,\n",
       "              n_estimators=100, n_jobs=None, num_parallel_tree=None,\n",
       "              predictor=None, random_state=None, ...)"
      ]
     },
     "execution_count": 40,
     "metadata": {},
     "output_type": "execute_result"
    }
   ],
   "source": [
    "xgbc = XGBClassifier()\n",
    "xgbc.fit(train_x, train_y)"
   ]
  },
  {
   "cell_type": "code",
   "execution_count": 41,
   "id": "715ece0a",
   "metadata": {},
   "outputs": [
    {
     "name": "stdout",
     "output_type": "stream",
     "text": [
      "0.9285714285714286\n",
      "0.9233110164333536\n",
      "0.9182692307692308\n",
      "0.9296296296296296\n",
      "[[25  1]\n",
      " [ 2 14]]\n"
     ]
    }
   ],
   "source": [
    "pred_xgbc = xgbc.predict(test_x)\n",
    "\n",
    "print(accuracy_score(test_y,pred_xgbc))\n",
    "print(f1_score(test_y,pred_xgbc,average='macro'))\n",
    "print(recall_score(test_y,pred_xgbc,average='macro'))\n",
    "print(precision_score(test_y,pred_xgbc,average='macro'))\n",
    "print(confusion_matrix(test_y,pred_xgbc))"
   ]
  },
  {
   "cell_type": "markdown",
   "id": "f3915436",
   "metadata": {},
   "source": [
    "# Case 3\n",
    "    \n",
    "#### Diagnosis code 3 ~ 5 and positivity 0 -> 1\n",
    "#### Diagnosis code  5 and positivity 1 -> 1\n",
    "#### else 0"
   ]
  },
  {
   "cell_type": "code",
   "execution_count": 42,
   "id": "c33958e4",
   "metadata": {},
   "outputs": [],
   "source": [
    "import pandas as pd\n",
    "\n",
    "data = pd.read_csv('../알츠하이머/data/modeling.csv').iloc[:,1:]"
   ]
  },
  {
   "cell_type": "code",
   "execution_count": 43,
   "id": "be481548",
   "metadata": {},
   "outputs": [],
   "source": [
    "for i in range(168):\n",
    "    pos = data.iloc[i,0]\n",
    "    code = data.iloc[i,5]\n",
    "    if code in [3,4,5] and pos==1:\n",
    "        data.loc[i, 'answer'] = 1\n",
    "    elif code==5 and pos==0:\n",
    "        data.loc[i, 'answer'] = 1\n",
    "    else:\n",
    "        data.loc[i,'answer'] = 0\n",
    "        \n",
    "data['answer'] = data['answer'].astype('int')"
   ]
  },
  {
   "cell_type": "code",
   "execution_count": 44,
   "id": "7e7e09ef",
   "metadata": {},
   "outputs": [],
   "source": [
    "data = data.drop(['positivity','Diagnosis code'], axis=1)"
   ]
  },
  {
   "cell_type": "code",
   "execution_count": 45,
   "id": "b9e8a922",
   "metadata": {},
   "outputs": [
    {
     "data": {
      "text/plain": [
       "108"
      ]
     },
     "execution_count": 45,
     "metadata": {},
     "output_type": "execute_result"
    }
   ],
   "source": [
    "len(data[data.answer==1])"
   ]
  },
  {
   "cell_type": "code",
   "execution_count": 46,
   "id": "58d36fc3",
   "metadata": {},
   "outputs": [
    {
     "data": {
      "text/plain": [
       "Index(['MMSE', 'CDR-SOB', 'GDS', 'FC', 'LTC', 'PC', 'OC', 'GCA', 'GCP', 'PQ',\n",
       "       'CN', 'PUT', 'THA', 'Composite*', 'answer'],\n",
       "      dtype='object')"
      ]
     },
     "execution_count": 46,
     "metadata": {},
     "output_type": "execute_result"
    }
   ],
   "source": [
    "corr = data.corr()\n",
    "lt = corr[(corr.answer<=-0.4)|(corr.answer>=0.4)].index\n",
    "lt"
   ]
  },
  {
   "cell_type": "code",
   "execution_count": 47,
   "id": "c49132b0",
   "metadata": {},
   "outputs": [],
   "source": [
    "put = data.drop(['answer'], axis=1)\n",
    "target = data['answer']"
   ]
  },
  {
   "cell_type": "code",
   "execution_count": 48,
   "id": "169e294b",
   "metadata": {},
   "outputs": [],
   "source": [
    "from sklearn.model_selection import train_test_split\n",
    "\n",
    "train_x, test_x, train_y, test_y = train_test_split(put, target, test_size=0.2, stratify= target, random_state=42)"
   ]
  },
  {
   "cell_type": "code",
   "execution_count": 49,
   "id": "ca143f08",
   "metadata": {},
   "outputs": [
    {
     "data": {
      "text/plain": [
       "RandomForestClassifier()"
      ]
     },
     "execution_count": 49,
     "metadata": {},
     "output_type": "execute_result"
    }
   ],
   "source": [
    "from sklearn.ensemble import RandomForestClassifier\n",
    "rfc = RandomForestClassifier(n_estimators=100)\n",
    "rfc.fit(train_x, train_y)"
   ]
  },
  {
   "cell_type": "code",
   "execution_count": 50,
   "id": "74ac6ff6",
   "metadata": {},
   "outputs": [
    {
     "name": "stdout",
     "output_type": "stream",
     "text": [
      "0.9705882352941176\n",
      "0.9671497584541062\n",
      "0.9583333333333333\n",
      "0.9782608695652174\n",
      "[[11  1]\n",
      " [ 0 22]]\n"
     ]
    }
   ],
   "source": [
    "pred_rfc = rfc.predict(test_x)\n",
    "proba_rfc = rfc.predict_proba(test_x)[:,1]\n",
    "\n",
    "from sklearn.metrics import accuracy_score, f1_score, recall_score, precision_score, confusion_matrix, roc_auc_score\n",
    "\n",
    "print(accuracy_score(test_y,pred_rfc))\n",
    "print(f1_score(test_y,pred_rfc,average='macro'))\n",
    "print(recall_score(test_y,pred_rfc,average='macro'))\n",
    "print(precision_score(test_y,pred_rfc,average='macro'))\n",
    "print(confusion_matrix(test_y,pred_rfc))"
   ]
  },
  {
   "cell_type": "code",
   "execution_count": 51,
   "id": "535f4454",
   "metadata": {},
   "outputs": [
    {
     "data": {
      "text/plain": [
       "XGBClassifier(base_score=None, booster=None, callbacks=None,\n",
       "              colsample_bylevel=None, colsample_bynode=None,\n",
       "              colsample_bytree=None, early_stopping_rounds=None,\n",
       "              enable_categorical=False, eval_metric=None, feature_types=None,\n",
       "              gamma=None, gpu_id=None, grow_policy=None, importance_type=None,\n",
       "              interaction_constraints=None, learning_rate=None, max_bin=None,\n",
       "              max_cat_threshold=None, max_cat_to_onehot=None,\n",
       "              max_delta_step=None, max_depth=None, max_leaves=None,\n",
       "              min_child_weight=None, missing=nan, monotone_constraints=None,\n",
       "              n_estimators=150, n_jobs=None, num_parallel_tree=None,\n",
       "              predictor=None, random_state=None, ...)"
      ]
     },
     "execution_count": 51,
     "metadata": {},
     "output_type": "execute_result"
    }
   ],
   "source": [
    "from xgboost.sklearn import XGBClassifier\n",
    "\n",
    "xgbc = XGBClassifier(n_estimators=150)\n",
    "xgbc.fit(train_x, train_y)"
   ]
  },
  {
   "cell_type": "code",
   "execution_count": 52,
   "id": "ed8f3081",
   "metadata": {},
   "outputs": [
    {
     "name": "stdout",
     "output_type": "stream",
     "text": [
      "0.9705882352941176\n",
      "0.9683720930232559\n",
      "0.9772727272727273\n",
      "0.9615384615384616\n",
      "[[12  0]\n",
      " [ 1 21]]\n"
     ]
    }
   ],
   "source": [
    "pred_xgbc = xgbc.predict(test_x)\n",
    "\n",
    "print(accuracy_score(test_y,pred_xgbc))\n",
    "print(f1_score(test_y,pred_xgbc,average='macro'))\n",
    "print(recall_score(test_y,pred_xgbc,average='macro'))\n",
    "print(precision_score(test_y,pred_xgbc,average='macro'))\n",
    "print(confusion_matrix(test_y,pred_xgbc))"
   ]
  },
  {
   "cell_type": "code",
   "execution_count": 53,
   "id": "1085ece9",
   "metadata": {},
   "outputs": [
    {
     "data": {
      "text/plain": [
       "answer        1.000000\n",
       "GCP           0.664150\n",
       "GCA           0.658137\n",
       "PQ            0.653714\n",
       "FC            0.652239\n",
       "Composite*    0.641270\n",
       "GDS           0.639166\n",
       "PC            0.631852\n",
       "LTC           0.629375\n",
       "PUT           0.613983\n",
       "CN            0.600768\n",
       "THA           0.569481\n",
       "OC            0.553114\n",
       "CDR-SOB       0.499855\n",
       "APOE          0.319246\n",
       "CDR           0.299344\n",
       "Age           0.179990\n",
       "Onset age     0.150080\n",
       "MTC           0.098847\n",
       "Eduction      0.097784\n",
       "SGDepS        0.063815\n",
       "SNSB         -0.057677\n",
       "Sex          -0.131762\n",
       "BS           -0.161264\n",
       "Pons         -0.240374\n",
       "Mid          -0.268018\n",
       "MMSE         -0.551808\n",
       "Name: answer, dtype: float64"
      ]
     },
     "execution_count": 53,
     "metadata": {},
     "output_type": "execute_result"
    }
   ],
   "source": [
    "corr = data.corr()\n",
    "lt = corr[(corr.answer>=0.4)|(corr.answer<=-0.4)].index\n",
    "corr.iloc[-1].sort_values(ascending=False)"
   ]
  },
  {
   "cell_type": "code",
   "execution_count": 54,
   "id": "da02a40e",
   "metadata": {},
   "outputs": [],
   "source": [
    "df = data[lt]\n",
    "put = df.drop(['answer'], axis=1)\n",
    "target = df['answer']"
   ]
  },
  {
   "cell_type": "code",
   "execution_count": 55,
   "id": "11a520c2",
   "metadata": {},
   "outputs": [],
   "source": [
    "from sklearn.model_selection import train_test_split\n",
    "\n",
    "train_x, test_x, train_y, test_y = train_test_split(put, target, test_size=0.2, stratify= target, random_state=42)"
   ]
  },
  {
   "cell_type": "code",
   "execution_count": 56,
   "id": "dfcea2c3",
   "metadata": {},
   "outputs": [
    {
     "data": {
      "text/plain": [
       "RandomForestClassifier()"
      ]
     },
     "execution_count": 56,
     "metadata": {},
     "output_type": "execute_result"
    }
   ],
   "source": [
    "from sklearn.ensemble import RandomForestClassifier\n",
    "rfc = RandomForestClassifier(n_estimators=100)\n",
    "rfc.fit(train_x, train_y)"
   ]
  },
  {
   "cell_type": "code",
   "execution_count": 57,
   "id": "4acb280b",
   "metadata": {},
   "outputs": [
    {
     "name": "stdout",
     "output_type": "stream",
     "text": [
      "0.9705882352941176\n",
      "0.9671497584541062\n",
      "0.9583333333333333\n",
      "0.9782608695652174\n",
      "0.9782608695652174\n",
      "[[11  1]\n",
      " [ 0 22]]\n"
     ]
    }
   ],
   "source": [
    "pred_rfc = rfc.predict(test_x)\n",
    "proba_rfc = rfc.predict_proba(test_x)[:,1]\n",
    "\n",
    "from sklearn.metrics import accuracy_score, f1_score, recall_score, precision_score, confusion_matrix, roc_auc_score\n",
    "\n",
    "print(accuracy_score(test_y,pred_rfc))\n",
    "print(f1_score(test_y,pred_rfc,average='macro'))\n",
    "print(recall_score(test_y,pred_rfc,average='macro'))\n",
    "print(precision_score(test_y,pred_rfc,average='macro'))\n",
    "print(precision_score(test_y,pred_rfc,average='macro'))\n",
    "# print(roc_auc_score(test_y, proba_rfc))\n",
    "print(confusion_matrix(test_y,pred_rfc))"
   ]
  },
  {
   "cell_type": "code",
   "execution_count": 58,
   "id": "414cf26b",
   "metadata": {},
   "outputs": [
    {
     "data": {
      "text/plain": [
       "XGBClassifier(base_score=None, booster=None, callbacks=None,\n",
       "              colsample_bylevel=None, colsample_bynode=None,\n",
       "              colsample_bytree=None, early_stopping_rounds=None,\n",
       "              enable_categorical=False, eval_metric=None, feature_types=None,\n",
       "              gamma=None, gpu_id=None, grow_policy=None, importance_type=None,\n",
       "              interaction_constraints=None, learning_rate=None, max_bin=None,\n",
       "              max_cat_threshold=None, max_cat_to_onehot=None,\n",
       "              max_delta_step=None, max_depth=None, max_leaves=None,\n",
       "              min_child_weight=None, missing=nan, monotone_constraints=None,\n",
       "              n_estimators=150, n_jobs=None, num_parallel_tree=None,\n",
       "              predictor=None, random_state=None, ...)"
      ]
     },
     "execution_count": 58,
     "metadata": {},
     "output_type": "execute_result"
    }
   ],
   "source": [
    "from xgboost.sklearn import XGBClassifier\n",
    "\n",
    "xgbc = XGBClassifier(n_estimators=150)\n",
    "xgbc.fit(train_x, train_y)"
   ]
  },
  {
   "cell_type": "code",
   "execution_count": 59,
   "id": "065afed6",
   "metadata": {},
   "outputs": [
    {
     "name": "stdout",
     "output_type": "stream",
     "text": [
      "1.0\n",
      "1.0\n",
      "1.0\n",
      "1.0\n",
      "[[12  0]\n",
      " [ 0 22]]\n"
     ]
    }
   ],
   "source": [
    "pred_xgbc = xgbc.predict(test_x)\n",
    "\n",
    "print(accuracy_score(test_y,pred_xgbc))\n",
    "print(f1_score(test_y,pred_xgbc,average='macro'))\n",
    "print(recall_score(test_y,pred_xgbc,average='macro'))\n",
    "print(precision_score(test_y,pred_xgbc,average='macro'))\n",
    "print(confusion_matrix(test_y,pred_xgbc))"
   ]
  }
 ],
 "metadata": {
  "kernelspec": {
   "display_name": "Python 3 (ipykernel)",
   "language": "python",
   "name": "python3"
  },
  "language_info": {
   "codemirror_mode": {
    "name": "ipython",
    "version": 3
   },
   "file_extension": ".py",
   "mimetype": "text/x-python",
   "name": "python",
   "nbconvert_exporter": "python",
   "pygments_lexer": "ipython3",
   "version": "3.9.13"
  }
 },
 "nbformat": 4,
 "nbformat_minor": 5
}
