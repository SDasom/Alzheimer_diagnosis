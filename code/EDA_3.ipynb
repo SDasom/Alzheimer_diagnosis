{
 "cells": [
  {
   "cell_type": "markdown",
   "id": "db109ed4",
   "metadata": {},
   "source": [
    "# 데이터 전처리"
   ]
  },
  {
   "cell_type": "code",
   "execution_count": 21,
   "id": "1543fdb0",
   "metadata": {},
   "outputs": [],
   "source": [
    "import pandas as pd\n",
    "\n",
    "data = pd.read_csv('../알츠하이머/data/FS_raw.csv')"
   ]
  },
  {
   "cell_type": "code",
   "execution_count": 22,
   "id": "91b2b4c6",
   "metadata": {},
   "outputs": [
    {
     "data": {
      "text/plain": [
       "array(['BAPL1', 'BAPL2', 'BAPL3'], dtype=object)"
      ]
     },
     "execution_count": 22,
     "metadata": {},
     "output_type": "execute_result"
    }
   ],
   "source": [
    "data.positivity.unique()"
   ]
  },
  {
   "cell_type": "code",
   "execution_count": 23,
   "id": "7f0dde96",
   "metadata": {},
   "outputs": [],
   "source": [
    "# 필요없는 컬럼 제거\n",
    "df = data.copy()\n",
    "df = df.drop(['ID','PET ligand type', 'Onset age'], axis=1)"
   ]
  },
  {
   "cell_type": "code",
   "execution_count": 24,
   "id": "6052f938",
   "metadata": {},
   "outputs": [],
   "source": [
    "# object형 데이터 인코딩\n",
    "df['positivity'] = df['positivity'].apply(lambda x: 0 if x=='BAPL1' else 1)\n",
    "df.APOE = df.APOE.apply(lambda x: 1 if x in ['E3/E4', 'E4/E4'] else 0)"
   ]
  },
  {
   "cell_type": "code",
   "execution_count": 17,
   "id": "bd26fe9b",
   "metadata": {},
   "outputs": [
    {
     "name": "stdout",
     "output_type": "stream",
     "text": [
      "<class 'pandas.core.frame.DataFrame'>\n",
      "RangeIndex: 168 entries, 0 to 167\n",
      "Data columns (total 60 columns):\n",
      " #   Column          Non-Null Count  Dtype  \n",
      "---  ------          --------------  -----  \n",
      " 0   positivity      168 non-null    int64  \n",
      " 1   Sex             168 non-null    int64  \n",
      " 2   Age             168 non-null    int64  \n",
      " 3   Eduction        168 non-null    int64  \n",
      " 4   Diagnosis code  168 non-null    int64  \n",
      " 5   APOE            168 non-null    int64  \n",
      " 6   SNSB            168 non-null    int64  \n",
      " 7   MMSE            168 non-null    int64  \n",
      " 8   CDR             168 non-null    float64\n",
      " 9   CDR-SOB         168 non-null    float64\n",
      " 10  GDS             168 non-null    int64  \n",
      " 11  SGDepS          168 non-null    int64  \n",
      " 12  (SUV)FC-l       168 non-null    float64\n",
      " 13  (SUV)FC-r       168 non-null    float64\n",
      " 14  (SUV)LTC-l      168 non-null    float64\n",
      " 15  (SUV)LTC-r      168 non-null    float64\n",
      " 16  (SUV)PC-l       168 non-null    float64\n",
      " 17  (SUV)PC-r       168 non-null    float64\n",
      " 18  (SUV)OC-l       168 non-null    float64\n",
      " 19  (SUV)OC-r       168 non-null    float64\n",
      " 20  (SUV)GCA-l      168 non-null    float64\n",
      " 21  (SUV)GCA-r      168 non-null    float64\n",
      " 22  (SUV)GCP-l      168 non-null    float64\n",
      " 23  (SUV)GCP-r      168 non-null    float64\n",
      " 24  (SUV)PQ-l       168 non-null    float64\n",
      " 25  (SUV)PQ-r       168 non-null    float64\n",
      " 26  (SUV)MTC-l      168 non-null    float64\n",
      " 27  (SUV)MTC-r      168 non-null    float64\n",
      " 28  (SUV)CN-l       168 non-null    float64\n",
      " 29  (SUV)CN-r       168 non-null    float64\n",
      " 30  (SUV)PUT-l      168 non-null    float64\n",
      " 31  (SUV)PUT-r      168 non-null    float64\n",
      " 32  (SUV)THA-l      168 non-null    float64\n",
      " 33  (SUV)THA-r      168 non-null    float64\n",
      " 34  (SUV)CBL-l      168 non-null    float64\n",
      " 35  (SUV)CBL-r      168 non-null    float64\n",
      " 36  (Vol)FC-l       168 non-null    int64  \n",
      " 37  (Vol)FC-r       168 non-null    int64  \n",
      " 38  (Vol)LTC-l      168 non-null    int64  \n",
      " 39  (Vol)LTC-r      168 non-null    int64  \n",
      " 40  (Vol)PC-l       168 non-null    int64  \n",
      " 41  (Vol)PC-r       168 non-null    int64  \n",
      " 42  (Vol)OC-l       168 non-null    int64  \n",
      " 43  (Vol)OC-r       168 non-null    int64  \n",
      " 44  (Vol)GCA-l      168 non-null    int64  \n",
      " 45  (Vol)GCA-r      168 non-null    int64  \n",
      " 46  (Vol)GCP-l      168 non-null    int64  \n",
      " 47  (Vol)GCP-r      168 non-null    int64  \n",
      " 48  (Vol)PQ-l       168 non-null    int64  \n",
      " 49  (Vol)PQ-r       168 non-null    int64  \n",
      " 50  (Vol)MTC-l      168 non-null    int64  \n",
      " 51  (Vol)MTC-r      168 non-null    int64  \n",
      " 52  (Vol)CN-l       168 non-null    int64  \n",
      " 53  (Vol)CN-r       168 non-null    int64  \n",
      " 54  (Vol)PUT-l      168 non-null    int64  \n",
      " 55  (Vol)PUT-r      168 non-null    int64  \n",
      " 56  (Vol)THA-l      168 non-null    int64  \n",
      " 57  (Vol)THA-r      168 non-null    int64  \n",
      " 58  (Vol)CBL-l      168 non-null    int64  \n",
      " 59  (Vol)CBL-r      168 non-null    int64  \n",
      "dtypes: float64(26), int64(34)\n",
      "memory usage: 78.9 KB\n"
     ]
    }
   ],
   "source": [
    "df.info()"
   ]
  },
  {
   "cell_type": "markdown",
   "id": "1151fa7e",
   "metadata": {},
   "source": [
    "## H0: 0/1/2/3/4/5"
   ]
  },
  {
   "cell_type": "code",
   "execution_count": 5,
   "id": "a592d897",
   "metadata": {},
   "outputs": [],
   "source": [
    "ndf = df.copy()\n",
    "ndf_corr = pd.DataFrame(ndf.corr().iloc[:,4].sort_values(ascending=False))\n",
    "ndf_corr = ndf_corr.rename(columns={'Diagnosis code':'corr'})\n",
    "\n",
    "strong_corr = ndf_corr[(ndf_corr['corr']>0.4)|(ndf_corr['corr']<=-0.4)]\n",
    "lt = strong_corr.index\n",
    "\n",
    "nndf = ndf[lt]\n",
    "X = nndf.drop('Diagnosis code', axis=1)\n",
    "y = nndf['Diagnosis code']\n",
    "\n",
    "from sklearn.model_selection import train_test_split\n",
    "train_x, test_x, train_y, test_y = train_test_split(X, y, test_size=0.2, shuffle=True, stratify=y)"
   ]
  },
  {
   "cell_type": "code",
   "execution_count": 25,
   "id": "efd5ba9c",
   "metadata": {},
   "outputs": [
    {
     "data": {
      "text/plain": [
       "array([0, 1], dtype=int64)"
      ]
     },
     "execution_count": 25,
     "metadata": {},
     "output_type": "execute_result"
    }
   ],
   "source": [
    "df.positivity.unique()"
   ]
  },
  {
   "cell_type": "code",
   "execution_count": 27,
   "id": "25f376cb",
   "metadata": {},
   "outputs": [
    {
     "data": {
      "text/plain": [
       "Diagnosis code    1.000000\n",
       "GDS               0.795828\n",
       "CDR-SOB           0.667014\n",
       "(SUV)PUT-l        0.459694\n",
       "(SUV)PUT-r        0.445789\n",
       "(SUV)GCA-l        0.442903\n",
       "(SUV)GCA-r        0.440731\n",
       "(SUV)GCP-l        0.439247\n",
       "(SUV)GCP-r        0.429696\n",
       "(SUV)PQ-r         0.427482\n",
       "(SUV)PQ-l         0.415662\n",
       "(SUV)FC-r         0.414658\n",
       "(SUV)LTC-r        0.410479\n",
       "positivity        0.409148\n",
       "CDR               0.405876\n",
       "(SUV)FC-l         0.402696\n",
       "(SUV)CN-r         0.396309\n",
       "(SUV)PC-r         0.394875\n",
       "(SUV)LTC-l        0.394690\n",
       "(SUV)CN-l         0.384433\n",
       "(SUV)PC-l         0.376564\n",
       "(SUV)OC-l         0.372480\n",
       "(SUV)OC-r         0.372480\n",
       "APOE              0.321481\n",
       "(SUV)THA-l        0.232711\n",
       "(SUV)THA-r        0.228025\n",
       "SGDepS            0.116523\n",
       "(SUV)CBL-l        0.108709\n",
       "Eduction          0.102318\n",
       "(SUV)MTC-l        0.073680\n",
       "(SUV)MTC-r        0.052372\n",
       "Age               0.039415\n",
       "(Vol)GCP-r        0.020688\n",
       "(Vol)CBL-l        0.007633\n",
       "(Vol)GCA-r       -0.020246\n",
       "(Vol)GCP-l       -0.021651\n",
       "(Vol)CBL-r       -0.029384\n",
       "(Vol)CN-r        -0.044159\n",
       "(Vol)OC-l        -0.056094\n",
       "(Vol)OC-r        -0.056094\n",
       "(Vol)CN-l        -0.059769\n",
       "(Vol)FC-r        -0.066549\n",
       "(Vol)GCA-l       -0.069022\n",
       "SNSB             -0.075599\n",
       "(Vol)FC-l        -0.079571\n",
       "(SUV)CBL-r       -0.110213\n",
       "(Vol)THA-r       -0.130632\n",
       "(Vol)LTC-r       -0.136512\n",
       "(Vol)PC-r        -0.160871\n",
       "(Vol)PUT-l       -0.161268\n",
       "(Vol)PUT-r       -0.166669\n",
       "(Vol)THA-l       -0.169806\n",
       "(Vol)LTC-l       -0.189129\n",
       "Sex              -0.204324\n",
       "(Vol)PQ-r        -0.205152\n",
       "(Vol)PQ-l        -0.212384\n",
       "(Vol)PC-l        -0.261593\n",
       "(Vol)MTC-l       -0.358570\n",
       "(Vol)MTC-r       -0.383246\n",
       "MMSE             -0.639955\n",
       "Name: Diagnosis code, dtype: float64"
      ]
     },
     "execution_count": 27,
     "metadata": {},
     "output_type": "execute_result"
    }
   ],
   "source": [
    "df.corr().iloc[:,4].sort_values(ascending=False)"
   ]
  },
  {
   "cell_type": "code",
   "execution_count": 6,
   "id": "0386296e",
   "metadata": {},
   "outputs": [
    {
     "data": {
      "text/plain": [
       "RandomForestClassifier(max_depth=8, n_estimators=150, random_state=42)"
      ]
     },
     "execution_count": 6,
     "metadata": {},
     "output_type": "execute_result"
    }
   ],
   "source": [
    "from sklearn.ensemble import RandomForestClassifier\n",
    "\n",
    "rfc = RandomForestClassifier(max_depth=8, n_estimators=150, random_state=42)\n",
    "rfc.fit(train_x, train_y)"
   ]
  },
  {
   "cell_type": "code",
   "execution_count": 7,
   "id": "f0408784",
   "metadata": {},
   "outputs": [],
   "source": [
    "pred= rfc.predict(test_x)\n",
    "\n",
    "pred_proba = rfc.predict_proba(test_x)"
   ]
  },
  {
   "cell_type": "code",
   "execution_count": 8,
   "id": "62427a4a",
   "metadata": {},
   "outputs": [
    {
     "name": "stdout",
     "output_type": "stream",
     "text": [
      "0.7941176470588235\n",
      "0.7941176470588235\n"
     ]
    }
   ],
   "source": [
    "from sklearn.metrics import accuracy_score, roc_auc_score, f1_score\n",
    "print(accuracy_score(test_y, pred))\n",
    "print(f1_score(test_y, pred, average='micro'))"
   ]
  },
  {
   "cell_type": "code",
   "execution_count": 9,
   "id": "230a1ce5",
   "metadata": {},
   "outputs": [
    {
     "name": "stderr",
     "output_type": "stream",
     "text": [
      "C:\\ProgramData\\Anaconda3\\lib\\site-packages\\sklearn\\model_selection\\_split.py:676: UserWarning: The least populated class in y has only 2 members, which is less than n_splits=5.\n",
      "  warnings.warn(\n"
     ]
    },
    {
     "name": "stdout",
     "output_type": "stream",
     "text": [
      "최적의 하이퍼파라미터: {'max_depth': 7, 'n_estimators': 100}\n",
      "최고 성능: 0.7385026737967915\n"
     ]
    }
   ],
   "source": [
    "from sklearn.model_selection import GridSearchCV\n",
    "\n",
    "# 모델 선택\n",
    "model = RandomForestClassifier(random_state=42)\n",
    "\n",
    "# 그리드 정의\n",
    "param_grid = {\n",
    "    'n_estimators': [75,100,125,150,175],  # 첫 번째 하이퍼파라미터 값들의 리스트\n",
    "    'max_depth': [None,7, 8, 9, 10,20],  # 두 번째 하이퍼파라미터 값들의 리스트\n",
    "}\n",
    "\n",
    "# 그리드 서치 수행\n",
    "grid_search = GridSearchCV(model, param_grid, cv=5)  # 5-겹 교차 검증을 사용\n",
    "grid_search.fit(X, y)\n",
    "\n",
    "# 최적의 하이퍼파라미터 조합과 성능 출력\n",
    "print(\"최적의 하이퍼파라미터:\", grid_search.best_params_)\n",
    "print(\"최고 성능:\", grid_search.best_score_)"
   ]
  },
  {
   "cell_type": "markdown",
   "id": "388713b9",
   "metadata": {},
   "source": [
    "## 가설1: 0,1,2,3,4 / 5"
   ]
  },
  {
   "cell_type": "code",
   "execution_count": 10,
   "id": "ec94bdd9",
   "metadata": {},
   "outputs": [],
   "source": [
    "ndf = df.copy()\n",
    "ndf['Diagnosis code'] = ndf['Diagnosis code'].map(lambda x: 1 if x==5 else 0)\n",
    "ndf_corr = pd.DataFrame(ndf.corr().iloc[:,4].sort_values(ascending=False))\n",
    "ndf_corr = ndf_corr.rename(columns={'Diagnosis code':'corr'})\n",
    "\n",
    "strong_corr = ndf_corr[(ndf_corr['corr']>0.4)|(ndf_corr['corr']<=-0.4)]\n",
    "lt = strong_corr.index\n",
    "\n",
    "nndf = ndf[lt]\n",
    "X = nndf.drop('Diagnosis code', axis=1)\n",
    "y = nndf['Diagnosis code']\n",
    "\n",
    "from sklearn.model_selection import train_test_split\n",
    "train_x, test_x, train_y, test_y = train_test_split(X, y, test_size=0.2, shuffle=True, stratify=y)"
   ]
  },
  {
   "cell_type": "code",
   "execution_count": 11,
   "id": "8ece45a4",
   "metadata": {},
   "outputs": [
    {
     "data": {
      "text/plain": [
       "RandomForestClassifier(random_state=42)"
      ]
     },
     "execution_count": 11,
     "metadata": {},
     "output_type": "execute_result"
    }
   ],
   "source": [
    "from sklearn.ensemble import RandomForestClassifier\n",
    "\n",
    "rfc = RandomForestClassifier(n_estimators=100, max_depth=None, random_state=42)\n",
    "rfc.fit(train_x, train_y)"
   ]
  },
  {
   "cell_type": "code",
   "execution_count": 12,
   "id": "f1a8ea77",
   "metadata": {},
   "outputs": [],
   "source": [
    "pred= rfc.predict(test_x)\n",
    "pred_proba = rfc.predict_proba(test_x)"
   ]
  },
  {
   "cell_type": "code",
   "execution_count": 13,
   "id": "7cb4cd10",
   "metadata": {},
   "outputs": [
    {
     "name": "stdout",
     "output_type": "stream",
     "text": [
      "1.0\n",
      "1.0\n",
      "1.0\n"
     ]
    }
   ],
   "source": [
    "from sklearn.metrics import accuracy_score, roc_auc_score, f1_score\n",
    "print(accuracy_score(test_y, pred))\n",
    "print(f1_score(test_y, pred, average='micro'))\n",
    "print(roc_auc_score(test_y, pred_proba[:,1]))"
   ]
  },
  {
   "cell_type": "code",
   "execution_count": 14,
   "id": "5e45938c",
   "metadata": {},
   "outputs": [
    {
     "name": "stdout",
     "output_type": "stream",
     "text": [
      "최적의 하이퍼파라미터: {'max_depth': None, 'n_estimators': 125}\n",
      "최고 성능: 0.8943019943019943\n"
     ]
    }
   ],
   "source": [
    "from sklearn.model_selection import GridSearchCV\n",
    "from sklearn.ensemble import RandomForestClassifier\n",
    "\n",
    "# 모델 선택\n",
    "model = RandomForestClassifier(random_state=42)\n",
    "\n",
    "# 그리드 정의\n",
    "param_grid = {\n",
    "    'n_estimators': [75,100,125,150,175],  # 첫 번째 하이퍼파라미터 값들의 리스트\n",
    "    'max_depth': [None,7, 8, 9, 10,20],  # 두 번째 하이퍼파라미터 값들의 리스트\n",
    "}\n",
    "\n",
    "# 그리드 서치 수행\n",
    "grid_search = GridSearchCV(model, param_grid, cv=5)  # 5-겹 교차 검증을 사용\n",
    "grid_search.fit(train_x, train_y)\n",
    "\n",
    "# 최적의 하이퍼파라미터 조합과 성능 출력\n",
    "print(\"최적의 하이퍼파라미터:\", grid_search.best_params_)\n",
    "print(\"최고 성능:\", grid_search.best_score_)"
   ]
  },
  {
   "cell_type": "code",
   "execution_count": 15,
   "id": "d23b6e7d",
   "metadata": {},
   "outputs": [
    {
     "name": "stdout",
     "output_type": "stream",
     "text": [
      "1.0\n",
      "1.0\n",
      "1.0\n"
     ]
    }
   ],
   "source": [
    "best_model = grid_search.best_estimator_\n",
    "best_model.fit(X, y)\n",
    "grid_pred = best_model.predict(test_x)\n",
    "grid_pred_proba = rfc.predict_proba(test_x)\n",
    "print(accuracy_score(test_y, grid_pred))\n",
    "print(f1_score(test_y, grid_pred, average='micro'))\n",
    "print(roc_auc_score(test_y, grid_pred_proba[:,1]))"
   ]
  },
  {
   "cell_type": "code",
   "execution_count": 16,
   "id": "15b23d53",
   "metadata": {},
   "outputs": [
    {
     "data": {
      "text/plain": [
       "18"
      ]
     },
     "execution_count": 16,
     "metadata": {},
     "output_type": "execute_result"
    }
   ],
   "source": [
    "len(lt)"
   ]
  },
  {
   "cell_type": "markdown",
   "id": "bd743628",
   "metadata": {},
   "source": [
    "## 가설2: 0,1,2,3 / 4,5"
   ]
  },
  {
   "cell_type": "code",
   "execution_count": 17,
   "id": "3d3b3edd",
   "metadata": {},
   "outputs": [],
   "source": [
    "ndf = df.copy()\n",
    "ndf['Diagnosis code'] = ndf['Diagnosis code'].map(lambda x: 1 if x in [4,5] else 0)\n",
    "ndf_corr = pd.DataFrame(ndf.corr().iloc[:,4].sort_values(ascending=False))\n",
    "ndf_corr = ndf_corr.rename(columns={'Diagnosis code':'corr'})\n",
    "\n",
    "strong_corr = ndf_corr[(ndf_corr['corr']>0.4)|(ndf_corr['corr']<=-0.4)]\n",
    "lt = strong_corr.index\n",
    "\n",
    "nndf = ndf[lt]\n",
    "X = nndf.drop('Diagnosis code', axis=1)\n",
    "y = nndf['Diagnosis code']\n",
    "\n",
    "from sklearn.model_selection import train_test_split\n",
    "train_x, test_x, train_y, test_y = train_test_split(X, y, test_size=0.2, shuffle=True, stratify=y)"
   ]
  },
  {
   "cell_type": "code",
   "execution_count": 18,
   "id": "7fd6b104",
   "metadata": {},
   "outputs": [
    {
     "data": {
      "text/plain": [
       "RandomForestClassifier(max_depth=8, n_estimators=150)"
      ]
     },
     "execution_count": 18,
     "metadata": {},
     "output_type": "execute_result"
    }
   ],
   "source": [
    "from sklearn.ensemble import RandomForestClassifier\n",
    "rfc = RandomForestClassifier(n_estimators=150, max_depth=8)\n",
    "rfc.fit(train_x, train_y)"
   ]
  },
  {
   "cell_type": "code",
   "execution_count": 19,
   "id": "3cc9f8b1",
   "metadata": {},
   "outputs": [],
   "source": [
    "pred= rfc.predict(test_x)\n",
    "pred_proba = rfc.predict_proba(test_x)"
   ]
  },
  {
   "cell_type": "code",
   "execution_count": 20,
   "id": "34a39e67",
   "metadata": {},
   "outputs": [
    {
     "name": "stdout",
     "output_type": "stream",
     "text": [
      "0.8235294117647058\n",
      "0.8235294117647058\n",
      "0.9221453287197232\n"
     ]
    }
   ],
   "source": [
    "from sklearn.metrics import accuracy_score, roc_auc_score, f1_score\n",
    "print(accuracy_score(test_y, pred))\n",
    "print(f1_score(test_y, pred, average='micro'))\n",
    "print(roc_auc_score(test_y, pred_proba[:,1]))"
   ]
  },
  {
   "cell_type": "code",
   "execution_count": 21,
   "id": "2881bf90",
   "metadata": {},
   "outputs": [
    {
     "name": "stdout",
     "output_type": "stream",
     "text": [
      "최적의 하이퍼파라미터: {'max_depth': None, 'n_estimators': 140}\n",
      "최고 성능: 0.9028490028490029\n"
     ]
    }
   ],
   "source": [
    "from sklearn.model_selection import GridSearchCV\n",
    "from sklearn.ensemble import RandomForestClassifier\n",
    "\n",
    "# 모델 선택\n",
    "model = RandomForestClassifier(random_state=42)\n",
    "\n",
    "# 그리드 정의\n",
    "param_grid = {\n",
    "    'n_estimators': [140, 145,150,155, 160],  # 첫 번째 하이퍼파라미터 값들의 리스트\n",
    "    'max_depth': [None,7, 8, 9, 10,20],  # 두 번째 하이퍼파라미터 값들의 리스트\n",
    "}\n",
    "\n",
    "# 그리드 서치 수행\n",
    "grid_search = GridSearchCV(model, param_grid, cv=5)  # 5-겹 교차 검증을 사용\n",
    "grid_search.fit(train_x, train_y)\n",
    "\n",
    "# 최적의 하이퍼파라미터 조합과 성능 출력\n",
    "print(\"최적의 하이퍼파라미터:\", grid_search.best_params_)\n",
    "print(\"최고 성능:\", grid_search.best_score_)"
   ]
  },
  {
   "cell_type": "markdown",
   "id": "c50bdea0",
   "metadata": {},
   "source": [
    "## 가설3: 0,1,2/3,4,5"
   ]
  },
  {
   "cell_type": "code",
   "execution_count": 22,
   "id": "a8eaafc9",
   "metadata": {},
   "outputs": [],
   "source": [
    "ndf = df.copy()\n",
    "ndf['Diagnosis code'] = ndf['Diagnosis code'].map(lambda x: 1 if x in [3,4,5] else 0)\n",
    "ndf_corr = pd.DataFrame(ndf.corr().iloc[:,4].sort_values(ascending=False))\n",
    "ndf_corr = ndf_corr.rename(columns={'Diagnosis code':'corr'})\n",
    "\n",
    "strong_corr = ndf_corr[(ndf_corr['corr']>0.4)|(ndf_corr['corr']<=-0.4)]\n",
    "lt = strong_corr.index\n",
    "\n",
    "nndf = ndf[lt]\n",
    "X = nndf.drop('Diagnosis code', axis=1)\n",
    "y = nndf['Diagnosis code']\n",
    "\n",
    "from sklearn.model_selection import train_test_split\n",
    "train_x, test_x, train_y, test_y = train_test_split(X, y, test_size=0.2, shuffle=True, stratify=y)"
   ]
  },
  {
   "cell_type": "code",
   "execution_count": 23,
   "id": "c5117faf",
   "metadata": {},
   "outputs": [
    {
     "name": "stdout",
     "output_type": "stream",
     "text": [
      "0.9705882352941176\n",
      "0.9705882352941176\n",
      "1.0\n"
     ]
    }
   ],
   "source": [
    "rfc = RandomForestClassifier(n_estimators=150, max_depth=8, random_state=42)\n",
    "rfc.fit(train_x, train_y)\n",
    "\n",
    "pred= rfc.predict(test_x)\n",
    "pred_proba = rfc.predict_proba(test_x)\n",
    "\n",
    "from sklearn.metrics import accuracy_score, roc_auc_score, f1_score\n",
    "print(accuracy_score(test_y, pred))\n",
    "print(f1_score(test_y, pred, average='micro'))\n",
    "print(roc_auc_score(test_y, pred_proba[:,1]))"
   ]
  },
  {
   "cell_type": "code",
   "execution_count": 24,
   "id": "398d2961",
   "metadata": {},
   "outputs": [
    {
     "name": "stdout",
     "output_type": "stream",
     "text": [
      "최적의 하이퍼파라미터: {'max_depth': None, 'n_estimators': 30}\n",
      "최고 성능: 0.9475783475783475\n"
     ]
    }
   ],
   "source": [
    "from sklearn.model_selection import GridSearchCV\n",
    "from sklearn.ensemble import RandomForestClassifier\n",
    "\n",
    "# 모델 선택\n",
    "model = RandomForestClassifier(random_state=42)\n",
    "\n",
    "# 그리드 정의\n",
    "param_grid = {\n",
    "    'n_estimators': [30,35,40,45,50,55,60,65],  # 첫 번째 하이퍼파라미터 값들의 리스트\n",
    "    'max_depth': [None,7, 8, 9, 10,20],  # 두 번째 하이퍼파라미터 값들의 리스트\n",
    "}\n",
    "\n",
    "# 그리드 서치 수행\n",
    "grid_search = GridSearchCV(model, param_grid, cv=5)  # 5-겹 교차 검증을 사용\n",
    "grid_search.fit(train_x, train_y)\n",
    "\n",
    "# 최적의 하이퍼파라미터 조합과 성능 출력\n",
    "print(\"최적의 하이퍼파라미터:\", grid_search.best_params_)\n",
    "print(\"최고 성능:\", grid_search.best_score_)"
   ]
  },
  {
   "cell_type": "markdown",
   "id": "aed4206e",
   "metadata": {},
   "source": [
    "## 가설4: 0,1,2/3,4/5"
   ]
  },
  {
   "cell_type": "code",
   "execution_count": 25,
   "id": "68b39a82",
   "metadata": {},
   "outputs": [],
   "source": [
    "def f(x):\n",
    "    if x==5:\n",
    "        return 2\n",
    "    elif x in [3,4]:\n",
    "        return 1\n",
    "    else:\n",
    "        return 0\n",
    "    \n",
    "ndf = df.copy()\n",
    "ndf['Diagnosis code'] = ndf['Diagnosis code'].map(f)\n",
    "ndf_corr = pd.DataFrame(ndf.corr().iloc[:,4].sort_values(ascending=False))\n",
    "ndf_corr = ndf_corr.rename(columns={'Diagnosis code':'corr'})\n",
    "\n",
    "strong_corr = ndf_corr[(ndf_corr['corr']>0.4)|(ndf_corr['corr']<=-0.4)]\n",
    "lt = strong_corr.index\n",
    "\n",
    "nndf = ndf[lt]\n",
    "X = nndf.drop('Diagnosis code', axis=1)\n",
    "y = nndf['Diagnosis code']\n",
    "\n",
    "from sklearn.model_selection import train_test_split\n",
    "train_x, test_x, train_y, test_y = train_test_split(X, y, test_size=0.2, shuffle=True, stratify=y)"
   ]
  },
  {
   "cell_type": "code",
   "execution_count": 26,
   "id": "089c620d",
   "metadata": {},
   "outputs": [
    {
     "name": "stdout",
     "output_type": "stream",
     "text": [
      "0.7647058823529411\n",
      "0.7647058823529412\n"
     ]
    }
   ],
   "source": [
    "from sklearn.model_selection import train_test_split\n",
    "\n",
    "# 데이터 준비\n",
    "train_x, test_x, train_y, test_y = train_test_split(X, y, test_size=0.2, shuffle=True, stratify=y)\n",
    "\n",
    "rfc = RandomForestClassifier(n_estimators=150, max_depth=8, random_state=42)\n",
    "rfc.fit(train_x, train_y)\n",
    "\n",
    "pred= rfc.predict(test_x)\n",
    "pred_proba = rfc.predict_proba(test_x)\n",
    "\n",
    "from sklearn.metrics import accuracy_score, roc_auc_score, f1_score\n",
    "print(accuracy_score(test_y, pred))\n",
    "print(f1_score(test_y, pred, average='micro'))"
   ]
  },
  {
   "cell_type": "code",
   "execution_count": 27,
   "id": "8a18e916",
   "metadata": {},
   "outputs": [
    {
     "name": "stdout",
     "output_type": "stream",
     "text": [
      "최적의 하이퍼파라미터: {'max_depth': None, 'n_estimators': 9}\n",
      "최고 성능: 0.8732193732193732\n"
     ]
    }
   ],
   "source": [
    "from sklearn.model_selection import GridSearchCV\n",
    "from sklearn.ensemble import RandomForestClassifier\n",
    "\n",
    "# 모델 선택\n",
    "model = RandomForestClassifier(random_state=42)\n",
    "\n",
    "# 그리드 정의\n",
    "param_grid = {\n",
    "    'n_estimators': [1,2,3,4,5,6,7,8,9,10],  # 첫 번째 하이퍼파라미터 값들의 리스트\n",
    "    'max_depth': [None,7, 8, 9, 10,20],  # 두 번째 하이퍼파라미터 값들의 리스트\n",
    "}\n",
    "\n",
    "# 그리드 서치 수행\n",
    "grid_search = GridSearchCV(model, param_grid, cv=5)  # 5-겹 교차 검증을 사용\n",
    "grid_search.fit(train_x, train_y)\n",
    "\n",
    "# 최적의 하이퍼파라미터 조합과 성능 출력\n",
    "print(\"최적의 하이퍼파라미터:\", grid_search.best_params_)\n",
    "print(\"최고 성능:\", grid_search.best_score_)"
   ]
  },
  {
   "cell_type": "code",
   "execution_count": 28,
   "id": "ec3c2562",
   "metadata": {},
   "outputs": [
    {
     "name": "stdout",
     "output_type": "stream",
     "text": [
      "0.7941176470588235\n",
      "0.7941176470588235\n",
      "0.8838326105567486\n"
     ]
    }
   ],
   "source": [
    "best_model = grid_search.best_estimator_\n",
    "grid_pred = best_model.predict(test_x)\n",
    "grid_pred_proba = best_model.predict_proba(test_x)\n",
    "print(accuracy_score(test_y, grid_pred))\n",
    "print(f1_score(test_y, grid_pred, average='micro'))\n",
    "print(roc_auc_score(test_y, grid_pred_proba, multi_class='ovr'))"
   ]
  },
  {
   "cell_type": "code",
   "execution_count": null,
   "id": "5a12b3bf",
   "metadata": {},
   "outputs": [],
   "source": []
  },
  {
   "cell_type": "code",
   "execution_count": 29,
   "id": "f63722e3",
   "metadata": {},
   "outputs": [
    {
     "data": {
      "text/plain": [
       "array([[0.        , 0.11111111, 0.88888889],\n",
       "       [0.        , 1.        , 0.        ],\n",
       "       [0.        , 0.11111111, 0.88888889],\n",
       "       [0.        , 0.        , 1.        ],\n",
       "       [0.        , 0.        , 1.        ],\n",
       "       [0.        , 0.22222222, 0.77777778],\n",
       "       [0.        , 0.11111111, 0.88888889],\n",
       "       [0.33333333, 0.66666667, 0.        ],\n",
       "       [0.22222222, 0.77777778, 0.        ],\n",
       "       [0.        , 0.44444444, 0.55555556],\n",
       "       [0.11111111, 0.55555556, 0.33333333],\n",
       "       [0.11111111, 0.22222222, 0.66666667],\n",
       "       [0.        , 0.        , 1.        ],\n",
       "       [0.22222222, 0.77777778, 0.        ],\n",
       "       [0.        , 0.        , 1.        ],\n",
       "       [0.        , 0.        , 1.        ],\n",
       "       [0.        , 0.88888889, 0.11111111],\n",
       "       [0.        , 0.11111111, 0.88888889],\n",
       "       [0.        , 0.77777778, 0.22222222],\n",
       "       [0.        , 0.44444444, 0.55555556],\n",
       "       [0.        , 0.22222222, 0.77777778],\n",
       "       [0.        , 0.        , 1.        ],\n",
       "       [0.        , 0.66666667, 0.33333333],\n",
       "       [0.55555556, 0.44444444, 0.        ],\n",
       "       [0.33333333, 0.66666667, 0.        ],\n",
       "       [0.        , 0.        , 1.        ],\n",
       "       [0.11111111, 0.77777778, 0.11111111],\n",
       "       [0.        , 0.88888889, 0.11111111],\n",
       "       [0.66666667, 0.33333333, 0.        ],\n",
       "       [0.        , 0.11111111, 0.88888889],\n",
       "       [0.22222222, 0.77777778, 0.        ],\n",
       "       [0.11111111, 0.        , 0.88888889],\n",
       "       [0.22222222, 0.77777778, 0.        ],\n",
       "       [0.        , 0.11111111, 0.88888889]])"
      ]
     },
     "execution_count": 29,
     "metadata": {},
     "output_type": "execute_result"
    }
   ],
   "source": [
    "grid_pred_proba"
   ]
  }
 ],
 "metadata": {
  "kernelspec": {
   "display_name": "Python 3 (ipykernel)",
   "language": "python",
   "name": "python3"
  },
  "language_info": {
   "codemirror_mode": {
    "name": "ipython",
    "version": 3
   },
   "file_extension": ".py",
   "mimetype": "text/x-python",
   "name": "python",
   "nbconvert_exporter": "python",
   "pygments_lexer": "ipython3",
   "version": "3.9.13"
  }
 },
 "nbformat": 4,
 "nbformat_minor": 5
}
