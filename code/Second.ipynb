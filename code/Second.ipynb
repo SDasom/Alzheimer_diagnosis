{
 "cells": [
  {
   "cell_type": "markdown",
   "id": "808813fd",
   "metadata": {},
   "source": [
    "# Target: positivity"
   ]
  },
  {
   "cell_type": "code",
   "execution_count": 1,
   "id": "ebda8cac",
   "metadata": {
    "scrolled": true
   },
   "outputs": [
    {
     "data": {
      "text/html": [
       "<div>\n",
       "<style scoped>\n",
       "    .dataframe tbody tr th:only-of-type {\n",
       "        vertical-align: middle;\n",
       "    }\n",
       "\n",
       "    .dataframe tbody tr th {\n",
       "        vertical-align: top;\n",
       "    }\n",
       "\n",
       "    .dataframe thead th {\n",
       "        text-align: right;\n",
       "    }\n",
       "</style>\n",
       "<table border=\"1\" class=\"dataframe\">\n",
       "  <thead>\n",
       "    <tr style=\"text-align: right;\">\n",
       "      <th></th>\n",
       "      <th>ID</th>\n",
       "      <th>positivity</th>\n",
       "      <th>Sex</th>\n",
       "      <th>Age</th>\n",
       "      <th>Onset age</th>\n",
       "      <th>Eduction</th>\n",
       "      <th>Diagnosis code</th>\n",
       "      <th>APOE</th>\n",
       "      <th>SNSB</th>\n",
       "      <th>MMSE</th>\n",
       "      <th>...</th>\n",
       "      <th>GCP</th>\n",
       "      <th>PQ</th>\n",
       "      <th>MTC</th>\n",
       "      <th>CN</th>\n",
       "      <th>PUT</th>\n",
       "      <th>THA</th>\n",
       "      <th>Composite*</th>\n",
       "      <th>BS</th>\n",
       "      <th>Mid</th>\n",
       "      <th>Pons</th>\n",
       "    </tr>\n",
       "  </thead>\n",
       "  <tbody>\n",
       "    <tr>\n",
       "      <th>0</th>\n",
       "      <td>6428732</td>\n",
       "      <td>0</td>\n",
       "      <td>1</td>\n",
       "      <td>70</td>\n",
       "      <td>70.0</td>\n",
       "      <td>7</td>\n",
       "      <td>0</td>\n",
       "      <td>0</td>\n",
       "      <td>1</td>\n",
       "      <td>30</td>\n",
       "      <td>...</td>\n",
       "      <td>1.181286</td>\n",
       "      <td>1.120224</td>\n",
       "      <td>1.212681</td>\n",
       "      <td>1.153254</td>\n",
       "      <td>1.290994</td>\n",
       "      <td>1.229675</td>\n",
       "      <td>1.125368</td>\n",
       "      <td>1.786</td>\n",
       "      <td>1.562976</td>\n",
       "      <td>1.884322</td>\n",
       "    </tr>\n",
       "    <tr>\n",
       "      <th>1</th>\n",
       "      <td>6683990</td>\n",
       "      <td>0</td>\n",
       "      <td>1</td>\n",
       "      <td>71</td>\n",
       "      <td>66.0</td>\n",
       "      <td>11</td>\n",
       "      <td>4</td>\n",
       "      <td>0</td>\n",
       "      <td>1</td>\n",
       "      <td>26</td>\n",
       "      <td>...</td>\n",
       "      <td>1.223034</td>\n",
       "      <td>1.156271</td>\n",
       "      <td>1.081563</td>\n",
       "      <td>1.174605</td>\n",
       "      <td>1.318370</td>\n",
       "      <td>1.221072</td>\n",
       "      <td>1.139724</td>\n",
       "      <td>1.794</td>\n",
       "      <td>1.500693</td>\n",
       "      <td>1.828633</td>\n",
       "    </tr>\n",
       "    <tr>\n",
       "      <th>2</th>\n",
       "      <td>24771520</td>\n",
       "      <td>0</td>\n",
       "      <td>1</td>\n",
       "      <td>70</td>\n",
       "      <td>69.0</td>\n",
       "      <td>16</td>\n",
       "      <td>3</td>\n",
       "      <td>0</td>\n",
       "      <td>1</td>\n",
       "      <td>25</td>\n",
       "      <td>...</td>\n",
       "      <td>1.239517</td>\n",
       "      <td>1.132322</td>\n",
       "      <td>1.177088</td>\n",
       "      <td>1.223519</td>\n",
       "      <td>1.338729</td>\n",
       "      <td>1.138704</td>\n",
       "      <td>1.166470</td>\n",
       "      <td>1.811</td>\n",
       "      <td>1.542578</td>\n",
       "      <td>2.005075</td>\n",
       "    </tr>\n",
       "    <tr>\n",
       "      <th>3</th>\n",
       "      <td>1618424</td>\n",
       "      <td>0</td>\n",
       "      <td>1</td>\n",
       "      <td>74</td>\n",
       "      <td>73.0</td>\n",
       "      <td>4</td>\n",
       "      <td>5</td>\n",
       "      <td>0</td>\n",
       "      <td>1</td>\n",
       "      <td>22</td>\n",
       "      <td>...</td>\n",
       "      <td>1.291466</td>\n",
       "      <td>1.170313</td>\n",
       "      <td>1.115316</td>\n",
       "      <td>1.143561</td>\n",
       "      <td>1.342879</td>\n",
       "      <td>1.260485</td>\n",
       "      <td>1.134957</td>\n",
       "      <td>1.840</td>\n",
       "      <td>1.517475</td>\n",
       "      <td>1.845699</td>\n",
       "    </tr>\n",
       "    <tr>\n",
       "      <th>4</th>\n",
       "      <td>2017376</td>\n",
       "      <td>0</td>\n",
       "      <td>1</td>\n",
       "      <td>78</td>\n",
       "      <td>75.0</td>\n",
       "      <td>12</td>\n",
       "      <td>0</td>\n",
       "      <td>0</td>\n",
       "      <td>1</td>\n",
       "      <td>30</td>\n",
       "      <td>...</td>\n",
       "      <td>1.152890</td>\n",
       "      <td>1.086830</td>\n",
       "      <td>1.060615</td>\n",
       "      <td>1.177075</td>\n",
       "      <td>1.236356</td>\n",
       "      <td>1.224865</td>\n",
       "      <td>1.054314</td>\n",
       "      <td>1.702</td>\n",
       "      <td>1.525412</td>\n",
       "      <td>1.619479</td>\n",
       "    </tr>\n",
       "    <tr>\n",
       "      <th>...</th>\n",
       "      <td>...</td>\n",
       "      <td>...</td>\n",
       "      <td>...</td>\n",
       "      <td>...</td>\n",
       "      <td>...</td>\n",
       "      <td>...</td>\n",
       "      <td>...</td>\n",
       "      <td>...</td>\n",
       "      <td>...</td>\n",
       "      <td>...</td>\n",
       "      <td>...</td>\n",
       "      <td>...</td>\n",
       "      <td>...</td>\n",
       "      <td>...</td>\n",
       "      <td>...</td>\n",
       "      <td>...</td>\n",
       "      <td>...</td>\n",
       "      <td>...</td>\n",
       "      <td>...</td>\n",
       "      <td>...</td>\n",
       "      <td>...</td>\n",
       "    </tr>\n",
       "    <tr>\n",
       "      <th>163</th>\n",
       "      <td>24225532</td>\n",
       "      <td>1</td>\n",
       "      <td>0</td>\n",
       "      <td>66</td>\n",
       "      <td>63.0</td>\n",
       "      <td>3</td>\n",
       "      <td>5</td>\n",
       "      <td>1</td>\n",
       "      <td>1</td>\n",
       "      <td>14</td>\n",
       "      <td>...</td>\n",
       "      <td>2.158729</td>\n",
       "      <td>2.056892</td>\n",
       "      <td>1.251478</td>\n",
       "      <td>1.614418</td>\n",
       "      <td>1.762425</td>\n",
       "      <td>1.656072</td>\n",
       "      <td>1.743311</td>\n",
       "      <td>1.716</td>\n",
       "      <td>1.556473</td>\n",
       "      <td>1.713264</td>\n",
       "    </tr>\n",
       "    <tr>\n",
       "      <th>164</th>\n",
       "      <td>25220520</td>\n",
       "      <td>1</td>\n",
       "      <td>0</td>\n",
       "      <td>67</td>\n",
       "      <td>65.0</td>\n",
       "      <td>6</td>\n",
       "      <td>5</td>\n",
       "      <td>1</td>\n",
       "      <td>1</td>\n",
       "      <td>20</td>\n",
       "      <td>...</td>\n",
       "      <td>1.973726</td>\n",
       "      <td>1.835785</td>\n",
       "      <td>1.328443</td>\n",
       "      <td>1.762946</td>\n",
       "      <td>1.809742</td>\n",
       "      <td>1.708223</td>\n",
       "      <td>1.740501</td>\n",
       "      <td>1.672</td>\n",
       "      <td>1.580051</td>\n",
       "      <td>1.628052</td>\n",
       "    </tr>\n",
       "    <tr>\n",
       "      <th>165</th>\n",
       "      <td>25468632</td>\n",
       "      <td>1</td>\n",
       "      <td>0</td>\n",
       "      <td>70</td>\n",
       "      <td>69.0</td>\n",
       "      <td>18</td>\n",
       "      <td>5</td>\n",
       "      <td>1</td>\n",
       "      <td>1</td>\n",
       "      <td>26</td>\n",
       "      <td>...</td>\n",
       "      <td>2.262631</td>\n",
       "      <td>2.078635</td>\n",
       "      <td>1.249556</td>\n",
       "      <td>1.751085</td>\n",
       "      <td>1.787068</td>\n",
       "      <td>1.521853</td>\n",
       "      <td>1.787363</td>\n",
       "      <td>1.784</td>\n",
       "      <td>1.566836</td>\n",
       "      <td>1.743362</td>\n",
       "    </tr>\n",
       "    <tr>\n",
       "      <th>166</th>\n",
       "      <td>27419040</td>\n",
       "      <td>1</td>\n",
       "      <td>0</td>\n",
       "      <td>64</td>\n",
       "      <td>64.0</td>\n",
       "      <td>11</td>\n",
       "      <td>5</td>\n",
       "      <td>1</td>\n",
       "      <td>1</td>\n",
       "      <td>18</td>\n",
       "      <td>...</td>\n",
       "      <td>1.909286</td>\n",
       "      <td>1.787781</td>\n",
       "      <td>1.144415</td>\n",
       "      <td>1.504897</td>\n",
       "      <td>1.673013</td>\n",
       "      <td>1.606195</td>\n",
       "      <td>1.604490</td>\n",
       "      <td>1.510</td>\n",
       "      <td>1.405606</td>\n",
       "      <td>1.458925</td>\n",
       "    </tr>\n",
       "    <tr>\n",
       "      <th>167</th>\n",
       "      <td>27999038</td>\n",
       "      <td>1</td>\n",
       "      <td>0</td>\n",
       "      <td>65</td>\n",
       "      <td>62.0</td>\n",
       "      <td>6</td>\n",
       "      <td>5</td>\n",
       "      <td>1</td>\n",
       "      <td>1</td>\n",
       "      <td>19</td>\n",
       "      <td>...</td>\n",
       "      <td>1.898469</td>\n",
       "      <td>1.697621</td>\n",
       "      <td>1.243672</td>\n",
       "      <td>1.478316</td>\n",
       "      <td>1.673455</td>\n",
       "      <td>1.591958</td>\n",
       "      <td>1.474855</td>\n",
       "      <td>1.935</td>\n",
       "      <td>1.685313</td>\n",
       "      <td>1.912124</td>\n",
       "    </tr>\n",
       "  </tbody>\n",
       "</table>\n",
       "<p>168 rows × 29 columns</p>\n",
       "</div>"
      ],
      "text/plain": [
       "           ID  positivity  Sex  Age  Onset age  Eduction  Diagnosis code  \\\n",
       "0     6428732           0    1   70       70.0         7               0   \n",
       "1     6683990           0    1   71       66.0        11               4   \n",
       "2    24771520           0    1   70       69.0        16               3   \n",
       "3     1618424           0    1   74       73.0         4               5   \n",
       "4     2017376           0    1   78       75.0        12               0   \n",
       "..        ...         ...  ...  ...        ...       ...             ...   \n",
       "163  24225532           1    0   66       63.0         3               5   \n",
       "164  25220520           1    0   67       65.0         6               5   \n",
       "165  25468632           1    0   70       69.0        18               5   \n",
       "166  27419040           1    0   64       64.0        11               5   \n",
       "167  27999038           1    0   65       62.0         6               5   \n",
       "\n",
       "     APOE  SNSB  MMSE  ...       GCP        PQ       MTC        CN       PUT  \\\n",
       "0       0     1    30  ...  1.181286  1.120224  1.212681  1.153254  1.290994   \n",
       "1       0     1    26  ...  1.223034  1.156271  1.081563  1.174605  1.318370   \n",
       "2       0     1    25  ...  1.239517  1.132322  1.177088  1.223519  1.338729   \n",
       "3       0     1    22  ...  1.291466  1.170313  1.115316  1.143561  1.342879   \n",
       "4       0     1    30  ...  1.152890  1.086830  1.060615  1.177075  1.236356   \n",
       "..    ...   ...   ...  ...       ...       ...       ...       ...       ...   \n",
       "163     1     1    14  ...  2.158729  2.056892  1.251478  1.614418  1.762425   \n",
       "164     1     1    20  ...  1.973726  1.835785  1.328443  1.762946  1.809742   \n",
       "165     1     1    26  ...  2.262631  2.078635  1.249556  1.751085  1.787068   \n",
       "166     1     1    18  ...  1.909286  1.787781  1.144415  1.504897  1.673013   \n",
       "167     1     1    19  ...  1.898469  1.697621  1.243672  1.478316  1.673455   \n",
       "\n",
       "          THA  Composite*     BS       Mid      Pons  \n",
       "0    1.229675    1.125368  1.786  1.562976  1.884322  \n",
       "1    1.221072    1.139724  1.794  1.500693  1.828633  \n",
       "2    1.138704    1.166470  1.811  1.542578  2.005075  \n",
       "3    1.260485    1.134957  1.840  1.517475  1.845699  \n",
       "4    1.224865    1.054314  1.702  1.525412  1.619479  \n",
       "..        ...         ...    ...       ...       ...  \n",
       "163  1.656072    1.743311  1.716  1.556473  1.713264  \n",
       "164  1.708223    1.740501  1.672  1.580051  1.628052  \n",
       "165  1.521853    1.787363  1.784  1.566836  1.743362  \n",
       "166  1.606195    1.604490  1.510  1.405606  1.458925  \n",
       "167  1.591958    1.474855  1.935  1.685313  1.912124  \n",
       "\n",
       "[168 rows x 29 columns]"
      ]
     },
     "execution_count": 1,
     "metadata": {},
     "output_type": "execute_result"
    }
   ],
   "source": [
    "import pandas as pd\n",
    "\n",
    "data = pd.read_csv('../알츠하이머/data/modeling.csv')\n",
    "data"
   ]
  },
  {
   "cell_type": "code",
   "execution_count": 2,
   "id": "5eb408c4",
   "metadata": {},
   "outputs": [
    {
     "data": {
      "text/html": [
       "<div>\n",
       "<style scoped>\n",
       "    .dataframe tbody tr th:only-of-type {\n",
       "        vertical-align: middle;\n",
       "    }\n",
       "\n",
       "    .dataframe tbody tr th {\n",
       "        vertical-align: top;\n",
       "    }\n",
       "\n",
       "    .dataframe thead th {\n",
       "        text-align: right;\n",
       "    }\n",
       "</style>\n",
       "<table border=\"1\" class=\"dataframe\">\n",
       "  <thead>\n",
       "    <tr style=\"text-align: right;\">\n",
       "      <th></th>\n",
       "      <th>ID</th>\n",
       "      <th>positivity</th>\n",
       "      <th>Sex</th>\n",
       "      <th>Age</th>\n",
       "      <th>Onset age</th>\n",
       "      <th>Eduction</th>\n",
       "      <th>Diagnosis code</th>\n",
       "      <th>APOE</th>\n",
       "      <th>SNSB</th>\n",
       "      <th>MMSE</th>\n",
       "      <th>...</th>\n",
       "      <th>GCP</th>\n",
       "      <th>PQ</th>\n",
       "      <th>MTC</th>\n",
       "      <th>CN</th>\n",
       "      <th>PUT</th>\n",
       "      <th>THA</th>\n",
       "      <th>Composite*</th>\n",
       "      <th>BS</th>\n",
       "      <th>Mid</th>\n",
       "      <th>Pons</th>\n",
       "    </tr>\n",
       "  </thead>\n",
       "  <tbody>\n",
       "    <tr>\n",
       "      <th>68</th>\n",
       "      <td>5004200</td>\n",
       "      <td>1</td>\n",
       "      <td>1</td>\n",
       "      <td>75</td>\n",
       "      <td>70.0</td>\n",
       "      <td>12</td>\n",
       "      <td>3</td>\n",
       "      <td>0</td>\n",
       "      <td>1</td>\n",
       "      <td>28</td>\n",
       "      <td>...</td>\n",
       "      <td>1.532420</td>\n",
       "      <td>1.463687</td>\n",
       "      <td>1.296757</td>\n",
       "      <td>1.371066</td>\n",
       "      <td>1.471454</td>\n",
       "      <td>1.366219</td>\n",
       "      <td>1.424085</td>\n",
       "      <td>1.900</td>\n",
       "      <td>1.619934</td>\n",
       "      <td>1.981119</td>\n",
       "    </tr>\n",
       "    <tr>\n",
       "      <th>69</th>\n",
       "      <td>6709750</td>\n",
       "      <td>1</td>\n",
       "      <td>1</td>\n",
       "      <td>74</td>\n",
       "      <td>71.0</td>\n",
       "      <td>6</td>\n",
       "      <td>3</td>\n",
       "      <td>0</td>\n",
       "      <td>1</td>\n",
       "      <td>28</td>\n",
       "      <td>...</td>\n",
       "      <td>1.722328</td>\n",
       "      <td>1.486053</td>\n",
       "      <td>1.164414</td>\n",
       "      <td>1.354128</td>\n",
       "      <td>1.371000</td>\n",
       "      <td>1.189944</td>\n",
       "      <td>1.329932</td>\n",
       "      <td>1.628</td>\n",
       "      <td>1.455648</td>\n",
       "      <td>1.768856</td>\n",
       "    </tr>\n",
       "    <tr>\n",
       "      <th>70</th>\n",
       "      <td>8192458</td>\n",
       "      <td>1</td>\n",
       "      <td>1</td>\n",
       "      <td>70</td>\n",
       "      <td>67.0</td>\n",
       "      <td>12</td>\n",
       "      <td>3</td>\n",
       "      <td>0</td>\n",
       "      <td>1</td>\n",
       "      <td>25</td>\n",
       "      <td>...</td>\n",
       "      <td>1.633463</td>\n",
       "      <td>1.620983</td>\n",
       "      <td>1.146945</td>\n",
       "      <td>1.416527</td>\n",
       "      <td>1.544328</td>\n",
       "      <td>1.450878</td>\n",
       "      <td>1.457967</td>\n",
       "      <td>1.878</td>\n",
       "      <td>1.411538</td>\n",
       "      <td>1.841853</td>\n",
       "    </tr>\n",
       "    <tr>\n",
       "      <th>71</th>\n",
       "      <td>565090</td>\n",
       "      <td>1</td>\n",
       "      <td>1</td>\n",
       "      <td>78</td>\n",
       "      <td>76.0</td>\n",
       "      <td>12</td>\n",
       "      <td>3</td>\n",
       "      <td>0</td>\n",
       "      <td>1</td>\n",
       "      <td>24</td>\n",
       "      <td>...</td>\n",
       "      <td>1.901473</td>\n",
       "      <td>1.750871</td>\n",
       "      <td>1.148994</td>\n",
       "      <td>1.524294</td>\n",
       "      <td>1.593111</td>\n",
       "      <td>1.539449</td>\n",
       "      <td>1.518324</td>\n",
       "      <td>1.758</td>\n",
       "      <td>1.560893</td>\n",
       "      <td>1.721729</td>\n",
       "    </tr>\n",
       "    <tr>\n",
       "      <th>72</th>\n",
       "      <td>13491322</td>\n",
       "      <td>1</td>\n",
       "      <td>1</td>\n",
       "      <td>77</td>\n",
       "      <td>73.0</td>\n",
       "      <td>2</td>\n",
       "      <td>3</td>\n",
       "      <td>1</td>\n",
       "      <td>1</td>\n",
       "      <td>19</td>\n",
       "      <td>...</td>\n",
       "      <td>1.752095</td>\n",
       "      <td>1.631587</td>\n",
       "      <td>1.175993</td>\n",
       "      <td>1.669768</td>\n",
       "      <td>1.668769</td>\n",
       "      <td>1.597455</td>\n",
       "      <td>1.460971</td>\n",
       "      <td>1.943</td>\n",
       "      <td>1.619002</td>\n",
       "      <td>2.059782</td>\n",
       "    </tr>\n",
       "    <tr>\n",
       "      <th>...</th>\n",
       "      <td>...</td>\n",
       "      <td>...</td>\n",
       "      <td>...</td>\n",
       "      <td>...</td>\n",
       "      <td>...</td>\n",
       "      <td>...</td>\n",
       "      <td>...</td>\n",
       "      <td>...</td>\n",
       "      <td>...</td>\n",
       "      <td>...</td>\n",
       "      <td>...</td>\n",
       "      <td>...</td>\n",
       "      <td>...</td>\n",
       "      <td>...</td>\n",
       "      <td>...</td>\n",
       "      <td>...</td>\n",
       "      <td>...</td>\n",
       "      <td>...</td>\n",
       "      <td>...</td>\n",
       "      <td>...</td>\n",
       "      <td>...</td>\n",
       "    </tr>\n",
       "    <tr>\n",
       "      <th>163</th>\n",
       "      <td>24225532</td>\n",
       "      <td>1</td>\n",
       "      <td>0</td>\n",
       "      <td>66</td>\n",
       "      <td>63.0</td>\n",
       "      <td>3</td>\n",
       "      <td>5</td>\n",
       "      <td>1</td>\n",
       "      <td>1</td>\n",
       "      <td>14</td>\n",
       "      <td>...</td>\n",
       "      <td>2.158729</td>\n",
       "      <td>2.056892</td>\n",
       "      <td>1.251478</td>\n",
       "      <td>1.614418</td>\n",
       "      <td>1.762425</td>\n",
       "      <td>1.656072</td>\n",
       "      <td>1.743311</td>\n",
       "      <td>1.716</td>\n",
       "      <td>1.556473</td>\n",
       "      <td>1.713264</td>\n",
       "    </tr>\n",
       "    <tr>\n",
       "      <th>164</th>\n",
       "      <td>25220520</td>\n",
       "      <td>1</td>\n",
       "      <td>0</td>\n",
       "      <td>67</td>\n",
       "      <td>65.0</td>\n",
       "      <td>6</td>\n",
       "      <td>5</td>\n",
       "      <td>1</td>\n",
       "      <td>1</td>\n",
       "      <td>20</td>\n",
       "      <td>...</td>\n",
       "      <td>1.973726</td>\n",
       "      <td>1.835785</td>\n",
       "      <td>1.328443</td>\n",
       "      <td>1.762946</td>\n",
       "      <td>1.809742</td>\n",
       "      <td>1.708223</td>\n",
       "      <td>1.740501</td>\n",
       "      <td>1.672</td>\n",
       "      <td>1.580051</td>\n",
       "      <td>1.628052</td>\n",
       "    </tr>\n",
       "    <tr>\n",
       "      <th>165</th>\n",
       "      <td>25468632</td>\n",
       "      <td>1</td>\n",
       "      <td>0</td>\n",
       "      <td>70</td>\n",
       "      <td>69.0</td>\n",
       "      <td>18</td>\n",
       "      <td>5</td>\n",
       "      <td>1</td>\n",
       "      <td>1</td>\n",
       "      <td>26</td>\n",
       "      <td>...</td>\n",
       "      <td>2.262631</td>\n",
       "      <td>2.078635</td>\n",
       "      <td>1.249556</td>\n",
       "      <td>1.751085</td>\n",
       "      <td>1.787068</td>\n",
       "      <td>1.521853</td>\n",
       "      <td>1.787363</td>\n",
       "      <td>1.784</td>\n",
       "      <td>1.566836</td>\n",
       "      <td>1.743362</td>\n",
       "    </tr>\n",
       "    <tr>\n",
       "      <th>166</th>\n",
       "      <td>27419040</td>\n",
       "      <td>1</td>\n",
       "      <td>0</td>\n",
       "      <td>64</td>\n",
       "      <td>64.0</td>\n",
       "      <td>11</td>\n",
       "      <td>5</td>\n",
       "      <td>1</td>\n",
       "      <td>1</td>\n",
       "      <td>18</td>\n",
       "      <td>...</td>\n",
       "      <td>1.909286</td>\n",
       "      <td>1.787781</td>\n",
       "      <td>1.144415</td>\n",
       "      <td>1.504897</td>\n",
       "      <td>1.673013</td>\n",
       "      <td>1.606195</td>\n",
       "      <td>1.604490</td>\n",
       "      <td>1.510</td>\n",
       "      <td>1.405606</td>\n",
       "      <td>1.458925</td>\n",
       "    </tr>\n",
       "    <tr>\n",
       "      <th>167</th>\n",
       "      <td>27999038</td>\n",
       "      <td>1</td>\n",
       "      <td>0</td>\n",
       "      <td>65</td>\n",
       "      <td>62.0</td>\n",
       "      <td>6</td>\n",
       "      <td>5</td>\n",
       "      <td>1</td>\n",
       "      <td>1</td>\n",
       "      <td>19</td>\n",
       "      <td>...</td>\n",
       "      <td>1.898469</td>\n",
       "      <td>1.697621</td>\n",
       "      <td>1.243672</td>\n",
       "      <td>1.478316</td>\n",
       "      <td>1.673455</td>\n",
       "      <td>1.591958</td>\n",
       "      <td>1.474855</td>\n",
       "      <td>1.935</td>\n",
       "      <td>1.685313</td>\n",
       "      <td>1.912124</td>\n",
       "    </tr>\n",
       "  </tbody>\n",
       "</table>\n",
       "<p>100 rows × 29 columns</p>\n",
       "</div>"
      ],
      "text/plain": [
       "           ID  positivity  Sex  Age  Onset age  Eduction  Diagnosis code  \\\n",
       "68    5004200           1    1   75       70.0        12               3   \n",
       "69    6709750           1    1   74       71.0         6               3   \n",
       "70    8192458           1    1   70       67.0        12               3   \n",
       "71     565090           1    1   78       76.0        12               3   \n",
       "72   13491322           1    1   77       73.0         2               3   \n",
       "..        ...         ...  ...  ...        ...       ...             ...   \n",
       "163  24225532           1    0   66       63.0         3               5   \n",
       "164  25220520           1    0   67       65.0         6               5   \n",
       "165  25468632           1    0   70       69.0        18               5   \n",
       "166  27419040           1    0   64       64.0        11               5   \n",
       "167  27999038           1    0   65       62.0         6               5   \n",
       "\n",
       "     APOE  SNSB  MMSE  ...       GCP        PQ       MTC        CN       PUT  \\\n",
       "68      0     1    28  ...  1.532420  1.463687  1.296757  1.371066  1.471454   \n",
       "69      0     1    28  ...  1.722328  1.486053  1.164414  1.354128  1.371000   \n",
       "70      0     1    25  ...  1.633463  1.620983  1.146945  1.416527  1.544328   \n",
       "71      0     1    24  ...  1.901473  1.750871  1.148994  1.524294  1.593111   \n",
       "72      1     1    19  ...  1.752095  1.631587  1.175993  1.669768  1.668769   \n",
       "..    ...   ...   ...  ...       ...       ...       ...       ...       ...   \n",
       "163     1     1    14  ...  2.158729  2.056892  1.251478  1.614418  1.762425   \n",
       "164     1     1    20  ...  1.973726  1.835785  1.328443  1.762946  1.809742   \n",
       "165     1     1    26  ...  2.262631  2.078635  1.249556  1.751085  1.787068   \n",
       "166     1     1    18  ...  1.909286  1.787781  1.144415  1.504897  1.673013   \n",
       "167     1     1    19  ...  1.898469  1.697621  1.243672  1.478316  1.673455   \n",
       "\n",
       "          THA  Composite*     BS       Mid      Pons  \n",
       "68   1.366219    1.424085  1.900  1.619934  1.981119  \n",
       "69   1.189944    1.329932  1.628  1.455648  1.768856  \n",
       "70   1.450878    1.457967  1.878  1.411538  1.841853  \n",
       "71   1.539449    1.518324  1.758  1.560893  1.721729  \n",
       "72   1.597455    1.460971  1.943  1.619002  2.059782  \n",
       "..        ...         ...    ...       ...       ...  \n",
       "163  1.656072    1.743311  1.716  1.556473  1.713264  \n",
       "164  1.708223    1.740501  1.672  1.580051  1.628052  \n",
       "165  1.521853    1.787363  1.784  1.566836  1.743362  \n",
       "166  1.606195    1.604490  1.510  1.405606  1.458925  \n",
       "167  1.591958    1.474855  1.935  1.685313  1.912124  \n",
       "\n",
       "[100 rows x 29 columns]"
      ]
     },
     "execution_count": 2,
     "metadata": {},
     "output_type": "execute_result"
    }
   ],
   "source": [
    "data[(data.positivity==1)]"
   ]
  },
  {
   "cell_type": "code",
   "execution_count": 3,
   "id": "1b005a2f",
   "metadata": {
    "scrolled": true
   },
   "outputs": [
    {
     "data": {
      "text/plain": [
       "positivity        1.000000\n",
       "PQ                0.867611\n",
       "GCP               0.861187\n",
       "PC                0.848809\n",
       "GCA               0.848655\n",
       "Composite*        0.844886\n",
       "FC                0.840276\n",
       "LTC               0.829676\n",
       "CN                0.796282\n",
       "PUT               0.777077\n",
       "THA               0.769440\n",
       "OC                0.763990\n",
       "Diagnosis code    0.409148\n",
       "APOE              0.392635\n",
       "GDS               0.366383\n",
       "CDR-SOB           0.299935\n",
       "MTC               0.283585\n",
       "CDR               0.221290\n",
       "Age               0.216661\n",
       "Onset age         0.187087\n",
       "Eduction          0.130179\n",
       "ID                0.018108\n",
       "Sex              -0.017150\n",
       "SNSB             -0.063811\n",
       "SGDepS           -0.118978\n",
       "BS               -0.187940\n",
       "Pons             -0.270811\n",
       "Mid              -0.276745\n",
       "MMSE             -0.354964\n",
       "Name: positivity, dtype: float64"
      ]
     },
     "execution_count": 3,
     "metadata": {},
     "output_type": "execute_result"
    }
   ],
   "source": [
    "data.corr().iloc[:,1].sort_values(ascending=False)"
   ]
  },
  {
   "cell_type": "markdown",
   "id": "88a43794",
   "metadata": {},
   "source": [
    "# 전체 데이터 사용"
   ]
  },
  {
   "cell_type": "code",
   "execution_count": 4,
   "id": "1c5babba",
   "metadata": {},
   "outputs": [],
   "source": [
    "put = data.drop(['positivity','ID'], axis=1)\n",
    "target = data['positivity']"
   ]
  },
  {
   "cell_type": "code",
   "execution_count": 5,
   "id": "24820166",
   "metadata": {},
   "outputs": [],
   "source": [
    "from sklearn.model_selection import train_test_split\n",
    "\n",
    "train_x, test_x, train_y, test_y = train_test_split(put, target, test_size=0.25, stratify=target)"
   ]
  },
  {
   "cell_type": "markdown",
   "id": "c556d328",
   "metadata": {},
   "source": [
    "## RF"
   ]
  },
  {
   "cell_type": "code",
   "execution_count": 6,
   "id": "3df91849",
   "metadata": {},
   "outputs": [
    {
     "data": {
      "text/plain": [
       "RandomForestClassifier(n_estimators=150, random_state=0)"
      ]
     },
     "execution_count": 6,
     "metadata": {},
     "output_type": "execute_result"
    }
   ],
   "source": [
    "from sklearn.ensemble import RandomForestClassifier\n",
    "rfc = RandomForestClassifier(n_estimators=150, random_state=0)\n",
    "rfc.fit(train_x, train_y)"
   ]
  },
  {
   "cell_type": "code",
   "execution_count": 7,
   "id": "0f7fec40",
   "metadata": {},
   "outputs": [
    {
     "name": "stdout",
     "output_type": "stream",
     "text": [
      "accuracy_score: 1.0\n",
      "recall_score 1.0\n",
      "precision_score 1.0\n",
      "f1_score 1.0\n",
      "confusion_matrix [[17  0]\n",
      " [ 0 25]]\n"
     ]
    }
   ],
   "source": [
    "pred_rfc = rfc.predict(test_x)\n",
    "\n",
    "from sklearn.metrics import accuracy_score, f1_score, recall_score, precision_score, confusion_matrix\n",
    "print('accuracy_score:',accuracy_score(test_y,pred_rfc))\n",
    "print('recall_score',recall_score(test_y,pred_rfc,average='macro'))\n",
    "print('precision_score', precision_score(test_y,pred_rfc,average='macro'))\n",
    "print('f1_score',f1_score(test_y,pred_rfc,average='macro'))\n",
    "print('confusion_matrix',confusion_matrix(test_y,pred_rfc))"
   ]
  },
  {
   "cell_type": "markdown",
   "id": "ecb39914",
   "metadata": {},
   "source": [
    "## XGB"
   ]
  },
  {
   "cell_type": "code",
   "execution_count": 58,
   "id": "3ff7049f",
   "metadata": {},
   "outputs": [
    {
     "data": {
      "text/plain": [
       "XGBClassifier(base_score=None, booster=None, callbacks=None,\n",
       "              colsample_bylevel=None, colsample_bynode=None,\n",
       "              colsample_bytree=None, early_stopping_rounds=None,\n",
       "              enable_categorical=False, eval_metric=None, feature_types=None,\n",
       "              gamma=None, gpu_id=None, grow_policy=None, importance_type=None,\n",
       "              interaction_constraints=None, learning_rate=None, max_bin=None,\n",
       "              max_cat_threshold=None, max_cat_to_onehot=None,\n",
       "              max_delta_step=None, max_depth=None, max_leaves=None,\n",
       "              min_child_weight=None, missing=nan, monotone_constraints=None,\n",
       "              n_estimators=100, n_jobs=None, num_parallel_tree=None,\n",
       "              predictor=None, random_state=None, ...)"
      ]
     },
     "execution_count": 58,
     "metadata": {},
     "output_type": "execute_result"
    }
   ],
   "source": [
    "from xgboost.sklearn import XGBClassifier\n",
    "xgbc= XGBClassifier(n_estimators=100)\n",
    "xgbc.fit(train_x, train_y)"
   ]
  },
  {
   "cell_type": "code",
   "execution_count": 59,
   "id": "d53e48d9",
   "metadata": {},
   "outputs": [
    {
     "name": "stdout",
     "output_type": "stream",
     "text": [
      "accuracy_score: 1.0\n",
      "recall_score 1.0\n",
      "precision_score 1.0\n",
      "f1_score 1.0\n",
      "confusion_matrix [[17  0]\n",
      " [ 0 25]]\n"
     ]
    }
   ],
   "source": [
    "pred_xgb = xgbc.predict(test_x)\n",
    "\n",
    "from sklearn.metrics import accuracy_score, f1_score, recall_score, precision_score, confusion_matrix\n",
    "print('accuracy_score:',accuracy_score(test_y,pred_xgb))\n",
    "print('recall_score',recall_score(test_y,pred_xgb,average='macro'))\n",
    "print('precision_score', precision_score(test_y,pred_xgb,average='macro'))\n",
    "print('f1_score',f1_score(test_y,pred_xgb,average='macro'))\n",
    "print('confusion_matrix',confusion_matrix(test_y,pred_xgb))"
   ]
  },
  {
   "cell_type": "markdown",
   "id": "11792e98",
   "metadata": {},
   "source": [
    "# 다소 높은 상관관계이상 데이터만 사용"
   ]
  },
  {
   "cell_type": "code",
   "execution_count": 8,
   "id": "d5afea04",
   "metadata": {},
   "outputs": [],
   "source": [
    "corr = data.corr()\n",
    "lt = corr[(corr['positivity']>=0.4)|(corr['positivity']<=-0.4)].index\n",
    "lt = list(lt)"
   ]
  },
  {
   "cell_type": "code",
   "execution_count": 9,
   "id": "7076c823",
   "metadata": {},
   "outputs": [
    {
     "data": {
      "text/plain": [
       "['positivity',\n",
       " 'Diagnosis code',\n",
       " 'FC',\n",
       " 'LTC',\n",
       " 'PC',\n",
       " 'OC',\n",
       " 'GCA',\n",
       " 'GCP',\n",
       " 'PQ',\n",
       " 'CN',\n",
       " 'PUT',\n",
       " 'THA',\n",
       " 'Composite*']"
      ]
     },
     "execution_count": 9,
     "metadata": {},
     "output_type": "execute_result"
    }
   ],
   "source": [
    "lt"
   ]
  },
  {
   "cell_type": "code",
   "execution_count": 32,
   "id": "c1ef34e5",
   "metadata": {},
   "outputs": [],
   "source": [
    "put2 = data[lt]\n",
    "target = data['positivity']"
   ]
  },
  {
   "cell_type": "code",
   "execution_count": 33,
   "id": "bc624384",
   "metadata": {},
   "outputs": [],
   "source": [
    "train_x, test_x, train_y, test_y = train_test_split(put2, target, test_size=0.2, stratify=target)"
   ]
  },
  {
   "cell_type": "code",
   "execution_count": 34,
   "id": "b46d4692",
   "metadata": {},
   "outputs": [
    {
     "data": {
      "text/plain": [
       "RandomForestClassifier()"
      ]
     },
     "execution_count": 34,
     "metadata": {},
     "output_type": "execute_result"
    }
   ],
   "source": [
    "rfc = RandomForestClassifier()\n",
    "rfc.fit(train_x, train_y)"
   ]
  },
  {
   "cell_type": "code",
   "execution_count": 35,
   "id": "0508b729",
   "metadata": {},
   "outputs": [
    {
     "name": "stdout",
     "output_type": "stream",
     "text": [
      "accuracy_score: 0.9705882352941176\n",
      "recall_score 0.975\n",
      "precision_score 0.9666666666666667\n",
      "f1_score 0.9699381078691424\n",
      "confusion_matrix [[14  0]\n",
      " [ 1 19]]\n"
     ]
    }
   ],
   "source": [
    "pred_rfc = rfc.predict(test_x)\n",
    "\n",
    "from sklearn.metrics import accuracy_score, f1_score, recall_score, precision_score, confusion_matrix\n",
    "print('accuracy_score:',accuracy_score(test_y,pred_rfc))\n",
    "print('recall_score',recall_score(test_y,pred_rfc,average='macro'))\n",
    "print('precision_score', precision_score(test_y,pred_rfc,average='macro'))\n",
    "print('f1_score',f1_score(test_y,pred_rfc,average='macro'))\n",
    "print('confusion_matrix',confusion_matrix(test_y,pred_rfc))"
   ]
  },
  {
   "cell_type": "code",
   "execution_count": 36,
   "id": "46ffb203",
   "metadata": {},
   "outputs": [
    {
     "data": {
      "text/plain": [
       "XGBClassifier(base_score=None, booster=None, callbacks=None,\n",
       "              colsample_bylevel=None, colsample_bynode=None,\n",
       "              colsample_bytree=None, early_stopping_rounds=None,\n",
       "              enable_categorical=False, eval_metric=None, feature_types=None,\n",
       "              gamma=None, gpu_id=None, grow_policy=None, importance_type=None,\n",
       "              interaction_constraints=None, learning_rate=None, max_bin=None,\n",
       "              max_cat_threshold=None, max_cat_to_onehot=None,\n",
       "              max_delta_step=None, max_depth=None, max_leaves=None,\n",
       "              min_child_weight=None, missing=nan, monotone_constraints=None,\n",
       "              n_estimators=100, n_jobs=None, num_parallel_tree=None,\n",
       "              predictor=None, random_state=None, ...)"
      ]
     },
     "execution_count": 36,
     "metadata": {},
     "output_type": "execute_result"
    }
   ],
   "source": [
    "xgbc= XGBClassifier()\n",
    "xgbc.fit(train_x, train_y)"
   ]
  },
  {
   "cell_type": "code",
   "execution_count": 29,
   "id": "f630a7ca",
   "metadata": {},
   "outputs": [
    {
     "name": "stdout",
     "output_type": "stream",
     "text": [
      "accuracy_score: 1.0\n",
      "recall_score 1.0\n",
      "precision_score 1.0\n",
      "f1_score 1.0\n",
      "confusion_matrix [[14  0]\n",
      " [ 0 20]]\n"
     ]
    }
   ],
   "source": [
    "pred_xgb = xgbc.predict(test_x)\n",
    "\n",
    "from sklearn.metrics import accuracy_score, f1_score, recall_score, precision_score, confusion_matrix\n",
    "print('accuracy_score:',accuracy_score(test_y,pred_xgb))\n",
    "print('recall_score',recall_score(test_y,pred_xgb,average='macro'))\n",
    "print('precision_score', precision_score(test_y,pred_xgb,average='macro'))\n",
    "print('f1_score',f1_score(test_y,pred_xgb,average='macro'))\n",
    "print('confusion_matrix',confusion_matrix(test_y,pred_xgb))"
   ]
  },
  {
   "cell_type": "markdown",
   "id": "7ce87cd5",
   "metadata": {},
   "source": [
    "##  상관계수 높은 것들만 사용"
   ]
  },
  {
   "cell_type": "code",
   "execution_count": 10,
   "id": "aa1ac30c",
   "metadata": {},
   "outputs": [],
   "source": [
    "corr = data.corr()\n",
    "lt = corr[(corr['positivity']>=0.7)|(corr['positivity']<=-0.7)].index\n",
    "lt = list(lt)"
   ]
  },
  {
   "cell_type": "code",
   "execution_count": 11,
   "id": "2ab53271",
   "metadata": {},
   "outputs": [
    {
     "data": {
      "text/plain": [
       "['positivity',\n",
       " 'FC',\n",
       " 'LTC',\n",
       " 'PC',\n",
       " 'OC',\n",
       " 'GCA',\n",
       " 'GCP',\n",
       " 'PQ',\n",
       " 'CN',\n",
       " 'PUT',\n",
       " 'THA',\n",
       " 'Composite*']"
      ]
     },
     "execution_count": 11,
     "metadata": {},
     "output_type": "execute_result"
    }
   ],
   "source": [
    "lt"
   ]
  },
  {
   "cell_type": "code",
   "execution_count": null,
   "id": "68d9425c",
   "metadata": {},
   "outputs": [],
   "source": []
  },
  {
   "cell_type": "code",
   "execution_count": 60,
   "id": "81e3d506",
   "metadata": {},
   "outputs": [
    {
     "data": {
      "text/plain": [
       "positivity        1.000000\n",
       "PQ                0.867611\n",
       "GCP               0.861187\n",
       "PC                0.848809\n",
       "GCA               0.848655\n",
       "Composite*        0.844886\n",
       "FC                0.840276\n",
       "LTC               0.829676\n",
       "CN                0.796282\n",
       "PUT               0.777077\n",
       "THA               0.769440\n",
       "OC                0.763990\n",
       "Diagnosis code    0.409148\n",
       "APOE              0.392635\n",
       "GDS               0.366383\n",
       "CDR-SOB           0.299935\n",
       "MTC               0.283585\n",
       "CDR               0.221290\n",
       "Age               0.216661\n",
       "Onset age         0.187087\n",
       "Eduction          0.130179\n",
       "ID                0.018108\n",
       "Sex              -0.017150\n",
       "SNSB             -0.063811\n",
       "SGDepS           -0.118978\n",
       "BS               -0.187940\n",
       "Pons             -0.270811\n",
       "Mid              -0.276745\n",
       "MMSE             -0.354964\n",
       "Name: positivity, dtype: float64"
      ]
     },
     "execution_count": 60,
     "metadata": {},
     "output_type": "execute_result"
    }
   ],
   "source": [
    "data.corr().loc['positivity'].sort_values(ascending=False)"
   ]
  },
  {
   "cell_type": "code",
   "execution_count": 44,
   "id": "14d63efd",
   "metadata": {},
   "outputs": [],
   "source": [
    "put2 = data[lt]\n",
    "target = data['positivity']"
   ]
  },
  {
   "cell_type": "code",
   "execution_count": 45,
   "id": "b0d4940c",
   "metadata": {},
   "outputs": [],
   "source": [
    "train_x, test_x, train_y, test_y = train_test_split(put2, target, test_size=0.2, stratify=target)"
   ]
  },
  {
   "cell_type": "code",
   "execution_count": 46,
   "id": "1716ef4c",
   "metadata": {},
   "outputs": [
    {
     "data": {
      "text/plain": [
       "RandomForestClassifier()"
      ]
     },
     "execution_count": 46,
     "metadata": {},
     "output_type": "execute_result"
    }
   ],
   "source": [
    "rfc = RandomForestClassifier()\n",
    "rfc.fit(train_x, train_y)"
   ]
  },
  {
   "cell_type": "code",
   "execution_count": 47,
   "id": "10b9ccbd",
   "metadata": {},
   "outputs": [
    {
     "name": "stdout",
     "output_type": "stream",
     "text": [
      "accuracy_score: 1.0\n",
      "recall_score 1.0\n",
      "precision_score 1.0\n",
      "f1_score 1.0\n",
      "confusion_matrix [[14  0]\n",
      " [ 0 20]]\n"
     ]
    }
   ],
   "source": [
    "pred_rfc = rfc.predict(test_x)\n",
    "\n",
    "from sklearn.metrics import accuracy_score, f1_score, recall_score, precision_score, confusion_matrix\n",
    "print('accuracy_score:',accuracy_score(test_y,pred_rfc))\n",
    "print('recall_score',recall_score(test_y,pred_rfc,average='macro'))\n",
    "print('precision_score', precision_score(test_y,pred_rfc,average='macro'))\n",
    "print('f1_score',f1_score(test_y,pred_rfc,average='macro'))\n",
    "print('confusion_matrix',confusion_matrix(test_y,pred_rfc))"
   ]
  },
  {
   "cell_type": "code",
   "execution_count": 48,
   "id": "ab77f295",
   "metadata": {},
   "outputs": [
    {
     "data": {
      "text/plain": [
       "XGBClassifier(base_score=None, booster=None, callbacks=None,\n",
       "              colsample_bylevel=None, colsample_bynode=None,\n",
       "              colsample_bytree=None, early_stopping_rounds=None,\n",
       "              enable_categorical=False, eval_metric=None, feature_types=None,\n",
       "              gamma=None, gpu_id=None, grow_policy=None, importance_type=None,\n",
       "              interaction_constraints=None, learning_rate=None, max_bin=None,\n",
       "              max_cat_threshold=None, max_cat_to_onehot=None,\n",
       "              max_delta_step=None, max_depth=None, max_leaves=None,\n",
       "              min_child_weight=None, missing=nan, monotone_constraints=None,\n",
       "              n_estimators=100, n_jobs=None, num_parallel_tree=None,\n",
       "              predictor=None, random_state=None, ...)"
      ]
     },
     "execution_count": 48,
     "metadata": {},
     "output_type": "execute_result"
    }
   ],
   "source": [
    "xgbc= XGBClassifier()\n",
    "xgbc.fit(train_x, train_y)"
   ]
  },
  {
   "cell_type": "code",
   "execution_count": 49,
   "id": "e013db58",
   "metadata": {},
   "outputs": [
    {
     "name": "stdout",
     "output_type": "stream",
     "text": [
      "accuracy_score: 1.0\n",
      "recall_score 1.0\n",
      "precision_score 1.0\n",
      "f1_score 1.0\n",
      "confusion_matrix [[14  0]\n",
      " [ 0 20]]\n"
     ]
    }
   ],
   "source": [
    "pred_xgb = xgbc.predict(test_x)\n",
    "\n",
    "from sklearn.metrics import accuracy_score, f1_score, recall_score, precision_score, confusion_matrix\n",
    "print('accuracy_score:',accuracy_score(test_y,pred_xgb))\n",
    "print('recall_score',recall_score(test_y,pred_xgb,average='macro'))\n",
    "print('precision_score', precision_score(test_y,pred_xgb,average='macro'))\n",
    "print('f1_score',f1_score(test_y,pred_xgb,average='macro'))\n",
    "print('confusion_matrix',confusion_matrix(test_y,pred_xgb))"
   ]
  },
  {
   "cell_type": "code",
   "execution_count": 50,
   "id": "760e79ae",
   "metadata": {},
   "outputs": [
    {
     "data": {
      "text/plain": [
       "['positivity',\n",
       " 'FC',\n",
       " 'LTC',\n",
       " 'PC',\n",
       " 'OC',\n",
       " 'GCA',\n",
       " 'GCP',\n",
       " 'PQ',\n",
       " 'CN',\n",
       " 'PUT',\n",
       " 'THA',\n",
       " 'Composite*']"
      ]
     },
     "execution_count": 50,
     "metadata": {},
     "output_type": "execute_result"
    }
   ],
   "source": [
    "lt"
   ]
  },
  {
   "cell_type": "code",
   "execution_count": null,
   "id": "4f4d75da",
   "metadata": {},
   "outputs": [],
   "source": []
  }
 ],
 "metadata": {
  "kernelspec": {
   "display_name": "Python 3 (ipykernel)",
   "language": "python",
   "name": "python3"
  },
  "language_info": {
   "codemirror_mode": {
    "name": "ipython",
    "version": 3
   },
   "file_extension": ".py",
   "mimetype": "text/x-python",
   "name": "python",
   "nbconvert_exporter": "python",
   "pygments_lexer": "ipython3",
   "version": "3.9.13"
  }
 },
 "nbformat": 4,
 "nbformat_minor": 5
}
