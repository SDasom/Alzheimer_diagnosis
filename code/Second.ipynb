{
 "cells": [
  {
   "cell_type": "markdown",
   "id": "808813fd",
   "metadata": {},
   "source": [
    "# Target: positivity"
   ]
  },
  {
   "cell_type": "code",
   "execution_count": 28,
   "id": "ebda8cac",
   "metadata": {
    "scrolled": true
   },
   "outputs": [],
   "source": [
    "import pandas as pd\n",
    "\n",
    "data = pd.read_csv('../알츠하이머/data/modeling.csv')"
   ]
  },
  {
   "cell_type": "code",
   "execution_count": 29,
   "id": "5eb408c4",
   "metadata": {},
   "outputs": [],
   "source": [
    "# data[(data.positivity==1)]"
   ]
  },
  {
   "cell_type": "code",
   "execution_count": 30,
   "id": "1b005a2f",
   "metadata": {
    "scrolled": true
   },
   "outputs": [
    {
     "data": {
      "text/plain": [
       "positivity        1.000000\n",
       "PQ                0.867611\n",
       "GCP               0.861187\n",
       "PC                0.848809\n",
       "GCA               0.848655\n",
       "Composite*        0.844886\n",
       "FC                0.840276\n",
       "LTC               0.829676\n",
       "CN                0.796282\n",
       "PUT               0.777077\n",
       "THA               0.769440\n",
       "OC                0.763990\n",
       "Diagnosis code    0.409148\n",
       "APOE              0.392635\n",
       "GDS               0.366383\n",
       "CDR-SOB           0.299935\n",
       "MTC               0.283585\n",
       "CDR               0.221290\n",
       "Age               0.216661\n",
       "Onset age         0.186080\n",
       "Eduction          0.130179\n",
       "ID                0.018108\n",
       "Sex              -0.017150\n",
       "SNSB             -0.063811\n",
       "SGDepS           -0.118978\n",
       "BS               -0.187940\n",
       "Pons             -0.270811\n",
       "Mid              -0.276745\n",
       "MMSE             -0.354964\n",
       "Name: positivity, dtype: float64"
      ]
     },
     "execution_count": 30,
     "metadata": {},
     "output_type": "execute_result"
    }
   ],
   "source": [
    "data.corr().iloc[:,1].sort_values(ascending=False)"
   ]
  },
  {
   "cell_type": "markdown",
   "id": "88a43794",
   "metadata": {},
   "source": [
    "# 전체 데이터 사용"
   ]
  },
  {
   "cell_type": "code",
   "execution_count": 31,
   "id": "1c5babba",
   "metadata": {},
   "outputs": [],
   "source": [
    "put = data.drop(['positivity','ID'], axis=1)\n",
    "target = data['positivity']"
   ]
  },
  {
   "cell_type": "code",
   "execution_count": 32,
   "id": "24820166",
   "metadata": {},
   "outputs": [],
   "source": [
    "from sklearn.model_selection import train_test_split\n",
    "\n",
    "train_x, test_x, train_y, test_y = train_test_split(put, target, test_size=0.25, stratify=target)"
   ]
  },
  {
   "cell_type": "markdown",
   "id": "c556d328",
   "metadata": {},
   "source": [
    "## RF"
   ]
  },
  {
   "cell_type": "code",
   "execution_count": 33,
   "id": "3df91849",
   "metadata": {},
   "outputs": [
    {
     "data": {
      "text/plain": [
       "RandomForestClassifier(n_estimators=150, random_state=0)"
      ]
     },
     "execution_count": 33,
     "metadata": {},
     "output_type": "execute_result"
    }
   ],
   "source": [
    "from sklearn.ensemble import RandomForestClassifier\n",
    "rfc = RandomForestClassifier(n_estimators=150, random_state=0)\n",
    "rfc.fit(train_x, train_y)"
   ]
  },
  {
   "cell_type": "code",
   "execution_count": 34,
   "id": "0f7fec40",
   "metadata": {},
   "outputs": [
    {
     "name": "stdout",
     "output_type": "stream",
     "text": [
      "accuracy_score: 0.9761904761904762\n",
      "recall_score 0.98\n",
      "precision_score 0.9722222222222222\n",
      "f1_score 0.9755102040816326\n",
      "confusion_matrix [[17  0]\n",
      " [ 1 24]]\n"
     ]
    }
   ],
   "source": [
    "pred_rfc = rfc.predict(test_x)\n",
    "\n",
    "from sklearn.metrics import accuracy_score, f1_score, recall_score, precision_score, confusion_matrix\n",
    "print('accuracy_score:',accuracy_score(test_y,pred_rfc))\n",
    "print('recall_score',recall_score(test_y,pred_rfc,average='macro'))\n",
    "print('precision_score', precision_score(test_y,pred_rfc,average='macro'))\n",
    "print('f1_score',f1_score(test_y,pred_rfc,average='macro'))\n",
    "print('confusion_matrix',confusion_matrix(test_y,pred_rfc))"
   ]
  },
  {
   "cell_type": "markdown",
   "id": "ecb39914",
   "metadata": {},
   "source": [
    "## XGB"
   ]
  },
  {
   "cell_type": "code",
   "execution_count": 35,
   "id": "3ff7049f",
   "metadata": {},
   "outputs": [
    {
     "data": {
      "text/plain": [
       "XGBClassifier(base_score=None, booster=None, callbacks=None,\n",
       "              colsample_bylevel=None, colsample_bynode=None,\n",
       "              colsample_bytree=None, early_stopping_rounds=None,\n",
       "              enable_categorical=False, eval_metric=None, feature_types=None,\n",
       "              gamma=None, gpu_id=None, grow_policy=None, importance_type=None,\n",
       "              interaction_constraints=None, learning_rate=None, max_bin=None,\n",
       "              max_cat_threshold=None, max_cat_to_onehot=None,\n",
       "              max_delta_step=None, max_depth=None, max_leaves=None,\n",
       "              min_child_weight=None, missing=nan, monotone_constraints=None,\n",
       "              n_estimators=100, n_jobs=None, num_parallel_tree=None,\n",
       "              predictor=None, random_state=None, ...)"
      ]
     },
     "execution_count": 35,
     "metadata": {},
     "output_type": "execute_result"
    }
   ],
   "source": [
    "from xgboost.sklearn import XGBClassifier\n",
    "xgbc= XGBClassifier(n_estimators=100)\n",
    "xgbc.fit(train_x, train_y)"
   ]
  },
  {
   "cell_type": "code",
   "execution_count": 36,
   "id": "d53e48d9",
   "metadata": {},
   "outputs": [
    {
     "name": "stdout",
     "output_type": "stream",
     "text": [
      "accuracy_score: 0.9761904761904762\n",
      "recall_score 0.98\n",
      "precision_score 0.9722222222222222\n",
      "f1_score 0.9755102040816326\n",
      "confusion_matrix [[17  0]\n",
      " [ 1 24]]\n"
     ]
    }
   ],
   "source": [
    "pred_xgb = xgbc.predict(test_x)\n",
    "\n",
    "from sklearn.metrics import accuracy_score, f1_score, recall_score, precision_score, confusion_matrix\n",
    "print('accuracy_score:',accuracy_score(test_y,pred_xgb))\n",
    "print('recall_score',recall_score(test_y,pred_xgb,average='macro'))\n",
    "print('precision_score', precision_score(test_y,pred_xgb,average='macro'))\n",
    "print('f1_score',f1_score(test_y,pred_xgb,average='macro'))\n",
    "print('confusion_matrix',confusion_matrix(test_y,pred_xgb))"
   ]
  },
  {
   "cell_type": "markdown",
   "id": "11792e98",
   "metadata": {},
   "source": [
    "# 다소 높은 상관관계이상 데이터만 사용"
   ]
  },
  {
   "cell_type": "code",
   "execution_count": 37,
   "id": "d5afea04",
   "metadata": {},
   "outputs": [],
   "source": [
    "corr = data.corr()\n",
    "lt = corr[(corr['positivity']>=0.4)|(corr['positivity']<=-0.4)].index\n",
    "lt = list(lt)"
   ]
  },
  {
   "cell_type": "code",
   "execution_count": 38,
   "id": "7076c823",
   "metadata": {},
   "outputs": [
    {
     "data": {
      "text/plain": [
       "['positivity',\n",
       " 'Diagnosis code',\n",
       " 'FC',\n",
       " 'LTC',\n",
       " 'PC',\n",
       " 'OC',\n",
       " 'GCA',\n",
       " 'GCP',\n",
       " 'PQ',\n",
       " 'CN',\n",
       " 'PUT',\n",
       " 'THA',\n",
       " 'Composite*']"
      ]
     },
     "execution_count": 38,
     "metadata": {},
     "output_type": "execute_result"
    }
   ],
   "source": [
    "lt"
   ]
  },
  {
   "cell_type": "code",
   "execution_count": 39,
   "id": "c1ef34e5",
   "metadata": {},
   "outputs": [],
   "source": [
    "put2 = data[lt]\n",
    "target = data['positivity']"
   ]
  },
  {
   "cell_type": "code",
   "execution_count": 40,
   "id": "bc624384",
   "metadata": {},
   "outputs": [],
   "source": [
    "train_x, test_x, train_y, test_y = train_test_split(put2, target, test_size=0.2, stratify=target)"
   ]
  },
  {
   "cell_type": "code",
   "execution_count": 41,
   "id": "b46d4692",
   "metadata": {},
   "outputs": [
    {
     "data": {
      "text/plain": [
       "RandomForestClassifier()"
      ]
     },
     "execution_count": 41,
     "metadata": {},
     "output_type": "execute_result"
    }
   ],
   "source": [
    "rfc = RandomForestClassifier()\n",
    "rfc.fit(train_x, train_y)"
   ]
  },
  {
   "cell_type": "code",
   "execution_count": 42,
   "id": "0508b729",
   "metadata": {},
   "outputs": [
    {
     "name": "stdout",
     "output_type": "stream",
     "text": [
      "accuracy_score: 1.0\n",
      "recall_score 1.0\n",
      "precision_score 1.0\n",
      "f1_score 1.0\n",
      "confusion_matrix [[14  0]\n",
      " [ 0 20]]\n"
     ]
    }
   ],
   "source": [
    "pred_rfc = rfc.predict(test_x)\n",
    "\n",
    "from sklearn.metrics import accuracy_score, f1_score, recall_score, precision_score, confusion_matrix\n",
    "print('accuracy_score:',accuracy_score(test_y,pred_rfc))\n",
    "print('recall_score',recall_score(test_y,pred_rfc,average='macro'))\n",
    "print('precision_score', precision_score(test_y,pred_rfc,average='macro'))\n",
    "print('f1_score',f1_score(test_y,pred_rfc,average='macro'))\n",
    "print('confusion_matrix',confusion_matrix(test_y,pred_rfc))"
   ]
  },
  {
   "cell_type": "code",
   "execution_count": 43,
   "id": "46ffb203",
   "metadata": {},
   "outputs": [
    {
     "data": {
      "text/plain": [
       "XGBClassifier(base_score=None, booster=None, callbacks=None,\n",
       "              colsample_bylevel=None, colsample_bynode=None,\n",
       "              colsample_bytree=None, early_stopping_rounds=None,\n",
       "              enable_categorical=False, eval_metric=None, feature_types=None,\n",
       "              gamma=None, gpu_id=None, grow_policy=None, importance_type=None,\n",
       "              interaction_constraints=None, learning_rate=None, max_bin=None,\n",
       "              max_cat_threshold=None, max_cat_to_onehot=None,\n",
       "              max_delta_step=None, max_depth=None, max_leaves=None,\n",
       "              min_child_weight=None, missing=nan, monotone_constraints=None,\n",
       "              n_estimators=100, n_jobs=None, num_parallel_tree=None,\n",
       "              predictor=None, random_state=None, ...)"
      ]
     },
     "execution_count": 43,
     "metadata": {},
     "output_type": "execute_result"
    }
   ],
   "source": [
    "xgbc= XGBClassifier()\n",
    "xgbc.fit(train_x, train_y)"
   ]
  },
  {
   "cell_type": "code",
   "execution_count": 44,
   "id": "f630a7ca",
   "metadata": {},
   "outputs": [
    {
     "name": "stdout",
     "output_type": "stream",
     "text": [
      "accuracy_score: 1.0\n",
      "recall_score 1.0\n",
      "precision_score 1.0\n",
      "f1_score 1.0\n",
      "confusion_matrix [[14  0]\n",
      " [ 0 20]]\n"
     ]
    }
   ],
   "source": [
    "pred_xgb = xgbc.predict(test_x)\n",
    "\n",
    "from sklearn.metrics import accuracy_score, f1_score, recall_score, precision_score, confusion_matrix\n",
    "print('accuracy_score:',accuracy_score(test_y,pred_xgb))\n",
    "print('recall_score',recall_score(test_y,pred_xgb,average='macro'))\n",
    "print('precision_score', precision_score(test_y,pred_xgb,average='macro'))\n",
    "print('f1_score',f1_score(test_y,pred_xgb,average='macro'))\n",
    "print('confusion_matrix',confusion_matrix(test_y,pred_xgb))"
   ]
  },
  {
   "cell_type": "markdown",
   "id": "7ce87cd5",
   "metadata": {},
   "source": [
    "##  상관계수 높은 것들만 사용"
   ]
  },
  {
   "cell_type": "code",
   "execution_count": 45,
   "id": "aa1ac30c",
   "metadata": {},
   "outputs": [],
   "source": [
    "corr = data.corr()\n",
    "lt = corr[(corr['positivity']>=0.7)|(corr['positivity']<=-0.7)].index\n",
    "lt = list(lt)"
   ]
  },
  {
   "cell_type": "code",
   "execution_count": 46,
   "id": "2ab53271",
   "metadata": {},
   "outputs": [
    {
     "data": {
      "text/plain": [
       "['positivity',\n",
       " 'FC',\n",
       " 'LTC',\n",
       " 'PC',\n",
       " 'OC',\n",
       " 'GCA',\n",
       " 'GCP',\n",
       " 'PQ',\n",
       " 'CN',\n",
       " 'PUT',\n",
       " 'THA',\n",
       " 'Composite*']"
      ]
     },
     "execution_count": 46,
     "metadata": {},
     "output_type": "execute_result"
    }
   ],
   "source": [
    "lt"
   ]
  },
  {
   "cell_type": "code",
   "execution_count": null,
   "id": "68d9425c",
   "metadata": {},
   "outputs": [],
   "source": []
  },
  {
   "cell_type": "code",
   "execution_count": 47,
   "id": "81e3d506",
   "metadata": {},
   "outputs": [
    {
     "data": {
      "text/plain": [
       "positivity        1.000000\n",
       "PQ                0.867611\n",
       "GCP               0.861187\n",
       "PC                0.848809\n",
       "GCA               0.848655\n",
       "Composite*        0.844886\n",
       "FC                0.840276\n",
       "LTC               0.829676\n",
       "CN                0.796282\n",
       "PUT               0.777077\n",
       "THA               0.769440\n",
       "OC                0.763990\n",
       "Diagnosis code    0.409148\n",
       "APOE              0.392635\n",
       "GDS               0.366383\n",
       "CDR-SOB           0.299935\n",
       "MTC               0.283585\n",
       "CDR               0.221290\n",
       "Age               0.216661\n",
       "Onset age         0.186080\n",
       "Eduction          0.130179\n",
       "ID                0.018108\n",
       "Sex              -0.017150\n",
       "SNSB             -0.063811\n",
       "SGDepS           -0.118978\n",
       "BS               -0.187940\n",
       "Pons             -0.270811\n",
       "Mid              -0.276745\n",
       "MMSE             -0.354964\n",
       "Name: positivity, dtype: float64"
      ]
     },
     "execution_count": 47,
     "metadata": {},
     "output_type": "execute_result"
    }
   ],
   "source": [
    "data.corr().loc['positivity'].sort_values(ascending=False)"
   ]
  },
  {
   "cell_type": "code",
   "execution_count": 48,
   "id": "14d63efd",
   "metadata": {},
   "outputs": [],
   "source": [
    "put2 = data[lt]\n",
    "target = data['positivity']"
   ]
  },
  {
   "cell_type": "code",
   "execution_count": 49,
   "id": "b0d4940c",
   "metadata": {},
   "outputs": [],
   "source": [
    "train_x, test_x, train_y, test_y = train_test_split(put2, target, test_size=0.2, stratify=target)"
   ]
  },
  {
   "cell_type": "code",
   "execution_count": 50,
   "id": "1716ef4c",
   "metadata": {},
   "outputs": [
    {
     "data": {
      "text/plain": [
       "RandomForestClassifier()"
      ]
     },
     "execution_count": 50,
     "metadata": {},
     "output_type": "execute_result"
    }
   ],
   "source": [
    "rfc = RandomForestClassifier()\n",
    "rfc.fit(train_x, train_y)"
   ]
  },
  {
   "cell_type": "code",
   "execution_count": 51,
   "id": "10b9ccbd",
   "metadata": {},
   "outputs": [
    {
     "name": "stdout",
     "output_type": "stream",
     "text": [
      "accuracy_score: 0.9411764705882353\n",
      "recall_score 0.9392857142857143\n",
      "precision_score 0.9392857142857143\n",
      "f1_score 0.9392857142857143\n",
      "confusion_matrix [[13  1]\n",
      " [ 1 19]]\n"
     ]
    }
   ],
   "source": [
    "pred_rfc = rfc.predict(test_x)\n",
    "\n",
    "from sklearn.metrics import accuracy_score, f1_score, recall_score, precision_score, confusion_matrix\n",
    "print('accuracy_score:',accuracy_score(test_y,pred_rfc))\n",
    "print('recall_score',recall_score(test_y,pred_rfc,average='macro'))\n",
    "print('precision_score', precision_score(test_y,pred_rfc,average='macro'))\n",
    "print('f1_score',f1_score(test_y,pred_rfc,average='macro'))\n",
    "print('confusion_matrix',confusion_matrix(test_y,pred_rfc))"
   ]
  },
  {
   "cell_type": "code",
   "execution_count": 52,
   "id": "ab77f295",
   "metadata": {},
   "outputs": [
    {
     "data": {
      "text/plain": [
       "XGBClassifier(base_score=None, booster=None, callbacks=None,\n",
       "              colsample_bylevel=None, colsample_bynode=None,\n",
       "              colsample_bytree=None, early_stopping_rounds=None,\n",
       "              enable_categorical=False, eval_metric=None, feature_types=None,\n",
       "              gamma=None, gpu_id=None, grow_policy=None, importance_type=None,\n",
       "              interaction_constraints=None, learning_rate=None, max_bin=None,\n",
       "              max_cat_threshold=None, max_cat_to_onehot=None,\n",
       "              max_delta_step=None, max_depth=None, max_leaves=None,\n",
       "              min_child_weight=None, missing=nan, monotone_constraints=None,\n",
       "              n_estimators=100, n_jobs=None, num_parallel_tree=None,\n",
       "              predictor=None, random_state=None, ...)"
      ]
     },
     "execution_count": 52,
     "metadata": {},
     "output_type": "execute_result"
    }
   ],
   "source": [
    "xgbc= XGBClassifier()\n",
    "xgbc.fit(train_x, train_y)"
   ]
  },
  {
   "cell_type": "code",
   "execution_count": 53,
   "id": "e013db58",
   "metadata": {},
   "outputs": [
    {
     "name": "stdout",
     "output_type": "stream",
     "text": [
      "accuracy_score: 1.0\n",
      "recall_score 1.0\n",
      "precision_score 1.0\n",
      "f1_score 1.0\n",
      "confusion_matrix [[14  0]\n",
      " [ 0 20]]\n"
     ]
    }
   ],
   "source": [
    "pred_xgb = xgbc.predict(test_x)\n",
    "\n",
    "from sklearn.metrics import accuracy_score, f1_score, recall_score, precision_score, confusion_matrix\n",
    "print('accuracy_score:',accuracy_score(test_y,pred_xgb))\n",
    "print('recall_score',recall_score(test_y,pred_xgb,average='macro'))\n",
    "print('precision_score', precision_score(test_y,pred_xgb,average='macro'))\n",
    "print('f1_score',f1_score(test_y,pred_xgb,average='macro'))\n",
    "print('confusion_matrix',confusion_matrix(test_y,pred_xgb))"
   ]
  },
  {
   "cell_type": "code",
   "execution_count": 54,
   "id": "760e79ae",
   "metadata": {},
   "outputs": [
    {
     "data": {
      "text/plain": [
       "['positivity',\n",
       " 'FC',\n",
       " 'LTC',\n",
       " 'PC',\n",
       " 'OC',\n",
       " 'GCA',\n",
       " 'GCP',\n",
       " 'PQ',\n",
       " 'CN',\n",
       " 'PUT',\n",
       " 'THA',\n",
       " 'Composite*']"
      ]
     },
     "execution_count": 54,
     "metadata": {},
     "output_type": "execute_result"
    }
   ],
   "source": [
    "lt"
   ]
  }
 ],
 "metadata": {
  "kernelspec": {
   "display_name": "Python 3 (ipykernel)",
   "language": "python",
   "name": "python3"
  },
  "language_info": {
   "codemirror_mode": {
    "name": "ipython",
    "version": 3
   },
   "file_extension": ".py",
   "mimetype": "text/x-python",
   "name": "python",
   "nbconvert_exporter": "python",
   "pygments_lexer": "ipython3",
   "version": "3.9.13"
  }
 },
 "nbformat": 4,
 "nbformat_minor": 5
}
